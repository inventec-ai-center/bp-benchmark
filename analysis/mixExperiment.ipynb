{
 "cells": [
  {
   "cell_type": "code",
   "execution_count": 1,
   "id": "18418571-28b0-46d2-ae61-62f66d2cba3d",
   "metadata": {},
   "outputs": [],
   "source": [
    "import pandas as pd "
   ]
  },
  {
   "cell_type": "markdown",
   "id": "377e3378-182a-4deb-a593-bccece42d9de",
   "metadata": {},
   "source": [
    "# Generate Sensors85"
   ]
  },
  {
   "cell_type": "code",
   "execution_count": 2,
   "id": "4ef526e0-4b33-4b1c-a1d4-0b22d0624e0b",
   "metadata": {},
   "outputs": [],
   "source": [
    "df = pd.read_pickle('../datasets/preprocessed/sensors.pkl')\n",
    "df_feats = pd.read_pickle('../datasets/preprocessed/sensors_feats.pkl')\n",
    "\n",
    "pats=set(df.groupby('patient').trial.count().sort_values(ascending=False).index[:85])\n",
    "\n",
    "df = df[df.patient.isin(pats)].reset_index(drop=True)\n",
    "df_feats = df_feats[df_feats.patient.isin(pats)].reset_index(drop=True)"
   ]
  },
  {
   "cell_type": "code",
   "execution_count": 5,
   "id": "4e6e328d-4740-46ce-ac75-13ed0be7922a",
   "metadata": {},
   "outputs": [],
   "source": [
    "df.to_pickle('../datasets/preprocessed/sensors85.pkl')\n",
    "df_feats.to_pickle('../datasets/preprocessed/sensors85_feats.pkl')"
   ]
  },
  {
   "cell_type": "markdown",
   "id": "4a303abb-197f-4a3e-b3eb-594092b1e744",
   "metadata": {},
   "source": [
    "# Generate mix split of all dataset"
   ]
  },
  {
   "cell_type": "code",
   "execution_count": 140,
   "id": "a96f2709-dc25-4d99-93f7-d8b7c2c37097",
   "metadata": {},
   "outputs": [],
   "source": [
    "import sys, os\n",
    "sys.path.append('../code/process/')\n",
    "from data_splitting import main as split\n",
    "from omegaconf import OmegaConf \n",
    "import joblib\n",
    "sys.path.append('../code/train/')\n",
    "from core.utils import get_nested_fold_idx\n",
    "import numpy as np\n",
    "\n",
    "def compute_mix_stats(conf):\n",
    "    all_split_df = joblib.load(conf.path.split_df_path)\n",
    "    samp_shared = []\n",
    "    sub_shared = []\n",
    "    for foldIdx, (folds_train, folds_val, folds_test) in enumerate(get_nested_fold_idx(len(all_split_df))):\n",
    "        if (conf.param_split.type=='hoo') and (foldIdx==1):  break\n",
    "        train_df = pd.concat(np.array(all_split_df)[folds_train])\n",
    "        val_df = pd.concat(np.array(all_split_df)[folds_val])\n",
    "        test_df = pd.concat(np.array(all_split_df)[folds_test])\n",
    "\n",
    "        samp_shared.append(test_df.patient.isin(train_df.patient).mean())\n",
    "        sub_shared.append(np.mean([sub in train_df.patient.unique() for sub in test_df.patient.unique()]))\n",
    "\n",
    "    print(samp_shared)\n",
    "    print(' - samp_shared',np.mean(samp_shared))\n",
    "    print(sub_shared)\n",
    "    print(' - sub_shared',np.mean(sub_shared))\n",
    "    return samp_shared, sub_shared\n"
   ]
  },
  {
   "cell_type": "code",
   "execution_count": 9,
   "id": "20b755de-5ac6-4c16-af47-53cdeeb23c56",
   "metadata": {},
   "outputs": [],
   "source": [
    "path_conf = '../code/process/core/config/splitting/'\n",
    "processed_df_path = '../datasets/preprocessed/'\n",
    "split_df_path = '../datasets/mix/'"
   ]
  },
  {
   "cell_type": "code",
   "execution_count": 136,
   "id": "761c3913-5c97-47cf-a203-745d9054b626",
   "metadata": {
    "tags": []
   },
   "outputs": [
    {
     "name": "stdout",
     "output_type": "stream",
     "text": [
      "sensors\n",
      "True ../datasets/preprocessed/sensors85.pkl ../datasets/mix/sensors85.pkl\n"
     ]
    },
    {
     "name": "stderr",
     "output_type": "stream",
     "text": [
      "/root/miniconda3/lib/python3.8/site-packages/pandas/core/frame.py:4163: SettingWithCopyWarning: \n",
      "A value is trying to be set on a copy of a slice from a DataFrame\n",
      "\n",
      "See the caveats in the documentation: https://pandas.pydata.org/pandas-docs/stable/user_guide/indexing.html#returning-a-view-versus-a-copy\n",
      "  return super().drop(\n"
     ]
    },
    {
     "name": "stdout",
     "output_type": "stream",
     "text": [
      "[2, 3, 4] [1] [0]\n",
      "[0, 3, 4] [2] [1]\n",
      "[0, 1, 4] [3] [2]\n",
      "[0, 1, 2] [4] [3]\n",
      "[1, 2, 3] [0] [4]\n",
      "SBP: MAE 18.4777 | ME 0.0001 | STD 22.6073\n",
      "DBP: MAE 9.2626 | ME 0.0000 | STD 11.6467\n",
      "total amount 3824\n",
      "True ../datasets/preprocessed/sensors85_feats.pkl ../datasets/mix/sensors85_feats.pkl\n"
     ]
    },
    {
     "name": "stderr",
     "output_type": "stream",
     "text": [
      "/home/jovyan/BP/bp-algorithm/analysis/../code/process/data_splitting.py:147: VisibleDeprecationWarning: Creating an ndarray from ragged nested sequences (which is a list-or-tuple of lists-or-tuples-or ndarrays with different lengths or shapes) is deprecated. If you meant to do this, you must specify 'dtype=object' when creating the ndarray\n",
      "  train_df = pd.concat(np.array(all_split_df)[folds_train])\n",
      "/home/jovyan/BP/bp-algorithm/analysis/../code/process/data_splitting.py:148: VisibleDeprecationWarning: Creating an ndarray from ragged nested sequences (which is a list-or-tuple of lists-or-tuples-or ndarrays with different lengths or shapes) is deprecated. If you meant to do this, you must specify 'dtype=object' when creating the ndarray\n",
      "  val_df = pd.concat(np.array(all_split_df)[folds_val])\n",
      "/home/jovyan/BP/bp-algorithm/analysis/../code/process/data_splitting.py:149: VisibleDeprecationWarning: Creating an ndarray from ragged nested sequences (which is a list-or-tuple of lists-or-tuples-or ndarrays with different lengths or shapes) is deprecated. If you meant to do this, you must specify 'dtype=object' when creating the ndarray\n",
      "  test_df = pd.concat(np.array(all_split_df)[folds_test])\n",
      "/root/miniconda3/lib/python3.8/site-packages/pandas/core/frame.py:4163: SettingWithCopyWarning: \n",
      "A value is trying to be set on a copy of a slice from a DataFrame\n",
      "\n",
      "See the caveats in the documentation: https://pandas.pydata.org/pandas-docs/stable/user_guide/indexing.html#returning-a-view-versus-a-copy\n",
      "  return super().drop(\n"
     ]
    },
    {
     "name": "stdout",
     "output_type": "stream",
     "text": [
      "[2, 3, 4] [1] [0]\n",
      "[0, 3, 4] [2] [1]\n"
     ]
    },
    {
     "name": "stderr",
     "output_type": "stream",
     "text": [
      "/home/jovyan/BP/bp-algorithm/analysis/../code/process/data_splitting.py:147: VisibleDeprecationWarning: Creating an ndarray from ragged nested sequences (which is a list-or-tuple of lists-or-tuples-or ndarrays with different lengths or shapes) is deprecated. If you meant to do this, you must specify 'dtype=object' when creating the ndarray\n",
      "  train_df = pd.concat(np.array(all_split_df)[folds_train])\n",
      "/home/jovyan/BP/bp-algorithm/analysis/../code/process/data_splitting.py:148: VisibleDeprecationWarning: Creating an ndarray from ragged nested sequences (which is a list-or-tuple of lists-or-tuples-or ndarrays with different lengths or shapes) is deprecated. If you meant to do this, you must specify 'dtype=object' when creating the ndarray\n",
      "  val_df = pd.concat(np.array(all_split_df)[folds_val])\n",
      "/home/jovyan/BP/bp-algorithm/analysis/../code/process/data_splitting.py:149: VisibleDeprecationWarning: Creating an ndarray from ragged nested sequences (which is a list-or-tuple of lists-or-tuples-or ndarrays with different lengths or shapes) is deprecated. If you meant to do this, you must specify 'dtype=object' when creating the ndarray\n",
      "  test_df = pd.concat(np.array(all_split_df)[folds_test])\n"
     ]
    },
    {
     "name": "stdout",
     "output_type": "stream",
     "text": [
      "[0, 1, 4] [3] [2]\n",
      "[0, 1, 2] [4] [3]\n",
      "[1, 2, 3] [0] [4]\n",
      "SBP: MAE 18.4777 | ME 0.0001 | STD 22.6073\n",
      "DBP: MAE 9.2626 | ME 0.0000 | STD 11.6467\n",
      "total amount 3824\n"
     ]
    },
    {
     "name": "stderr",
     "output_type": "stream",
     "text": [
      "/tmp/ipykernel_7702/679163948.py:16: VisibleDeprecationWarning: Creating an ndarray from ragged nested sequences (which is a list-or-tuple of lists-or-tuples-or ndarrays with different lengths or shapes) is deprecated. If you meant to do this, you must specify 'dtype=object' when creating the ndarray\n",
      "  train_df = pd.concat(np.array(all_split_df)[folds_train])\n",
      "/tmp/ipykernel_7702/679163948.py:17: VisibleDeprecationWarning: Creating an ndarray from ragged nested sequences (which is a list-or-tuple of lists-or-tuples-or ndarrays with different lengths or shapes) is deprecated. If you meant to do this, you must specify 'dtype=object' when creating the ndarray\n",
      "  val_df = pd.concat(np.array(all_split_df)[folds_val])\n",
      "/tmp/ipykernel_7702/679163948.py:18: VisibleDeprecationWarning: Creating an ndarray from ragged nested sequences (which is a list-or-tuple of lists-or-tuples-or ndarrays with different lengths or shapes) is deprecated. If you meant to do this, you must specify 'dtype=object' when creating the ndarray\n",
      "  test_df = pd.concat(np.array(all_split_df)[folds_test])\n"
     ]
    },
    {
     "name": "stdout",
     "output_type": "stream",
     "text": [
      "[1.0, 1.0, 1.0, 1.0, 1.0]\n",
      " - samp_shared 1.0\n",
      "[1.0, 1.0, 1.0, 1.0, 1.0]\n",
      " - sub_shared 1.0\n",
      "\n",
      "\n",
      "\n",
      "bcg\n",
      "True ../datasets/preprocessed/BCG.pkl ../datasets/mix/BCG.pkl\n"
     ]
    },
    {
     "name": "stderr",
     "output_type": "stream",
     "text": [
      "/root/miniconda3/lib/python3.8/site-packages/pandas/core/frame.py:4163: SettingWithCopyWarning: \n",
      "A value is trying to be set on a copy of a slice from a DataFrame\n",
      "\n",
      "See the caveats in the documentation: https://pandas.pydata.org/pandas-docs/stable/user_guide/indexing.html#returning-a-view-versus-a-copy\n",
      "  return super().drop(\n"
     ]
    },
    {
     "name": "stdout",
     "output_type": "stream",
     "text": [
      "[2, 3, 4] [1] [0]\n",
      "[0, 3, 4] [2] [1]\n",
      "[0, 1, 4] [3] [2]\n",
      "[0, 1, 2] [4] [3]\n",
      "[1, 2, 3] [0] [4]\n",
      "SBP: MAE 11.1220 | ME -0.0001 | STD 15.2884\n",
      "DBP: MAE 7.4142 | ME 0.0000 | STD 9.3040\n",
      "total amount 3063\n",
      "True ../datasets/preprocessed/BCG_feats.pkl ../datasets/mix/BCG_feats.pkl\n"
     ]
    },
    {
     "name": "stderr",
     "output_type": "stream",
     "text": [
      "/home/jovyan/BP/bp-algorithm/analysis/../code/process/data_splitting.py:147: VisibleDeprecationWarning: Creating an ndarray from ragged nested sequences (which is a list-or-tuple of lists-or-tuples-or ndarrays with different lengths or shapes) is deprecated. If you meant to do this, you must specify 'dtype=object' when creating the ndarray\n",
      "  train_df = pd.concat(np.array(all_split_df)[folds_train])\n",
      "/home/jovyan/BP/bp-algorithm/analysis/../code/process/data_splitting.py:148: VisibleDeprecationWarning: Creating an ndarray from ragged nested sequences (which is a list-or-tuple of lists-or-tuples-or ndarrays with different lengths or shapes) is deprecated. If you meant to do this, you must specify 'dtype=object' when creating the ndarray\n",
      "  val_df = pd.concat(np.array(all_split_df)[folds_val])\n",
      "/home/jovyan/BP/bp-algorithm/analysis/../code/process/data_splitting.py:149: VisibleDeprecationWarning: Creating an ndarray from ragged nested sequences (which is a list-or-tuple of lists-or-tuples-or ndarrays with different lengths or shapes) is deprecated. If you meant to do this, you must specify 'dtype=object' when creating the ndarray\n",
      "  test_df = pd.concat(np.array(all_split_df)[folds_test])\n",
      "/root/miniconda3/lib/python3.8/site-packages/pandas/core/frame.py:4163: SettingWithCopyWarning: \n",
      "A value is trying to be set on a copy of a slice from a DataFrame\n",
      "\n",
      "See the caveats in the documentation: https://pandas.pydata.org/pandas-docs/stable/user_guide/indexing.html#returning-a-view-versus-a-copy\n",
      "  return super().drop(\n",
      "/home/jovyan/BP/bp-algorithm/analysis/../code/process/data_splitting.py:147: VisibleDeprecationWarning: Creating an ndarray from ragged nested sequences (which is a list-or-tuple of lists-or-tuples-or ndarrays with different lengths or shapes) is deprecated. If you meant to do this, you must specify 'dtype=object' when creating the ndarray\n",
      "  train_df = pd.concat(np.array(all_split_df)[folds_train])\n",
      "/home/jovyan/BP/bp-algorithm/analysis/../code/process/data_splitting.py:148: VisibleDeprecationWarning: Creating an ndarray from ragged nested sequences (which is a list-or-tuple of lists-or-tuples-or ndarrays with different lengths or shapes) is deprecated. If you meant to do this, you must specify 'dtype=object' when creating the ndarray\n",
      "  val_df = pd.concat(np.array(all_split_df)[folds_val])\n",
      "/home/jovyan/BP/bp-algorithm/analysis/../code/process/data_splitting.py:149: VisibleDeprecationWarning: Creating an ndarray from ragged nested sequences (which is a list-or-tuple of lists-or-tuples-or ndarrays with different lengths or shapes) is deprecated. If you meant to do this, you must specify 'dtype=object' when creating the ndarray\n",
      "  test_df = pd.concat(np.array(all_split_df)[folds_test])\n"
     ]
    },
    {
     "name": "stdout",
     "output_type": "stream",
     "text": [
      "[2, 3, 4] [1] [0]\n",
      "[0, 3, 4] [2] [1]\n",
      "[0, 1, 4] [3] [2]\n",
      "[0, 1, 2] [4] [3]\n",
      "[1, 2, 3] [0] [4]\n",
      "SBP: MAE 11.1220 | ME -0.0001 | STD 15.2884\n",
      "DBP: MAE 7.4142 | ME 0.0000 | STD 9.3040\n",
      "total amount 3063\n"
     ]
    },
    {
     "name": "stderr",
     "output_type": "stream",
     "text": [
      "/tmp/ipykernel_7702/679163948.py:16: VisibleDeprecationWarning: Creating an ndarray from ragged nested sequences (which is a list-or-tuple of lists-or-tuples-or ndarrays with different lengths or shapes) is deprecated. If you meant to do this, you must specify 'dtype=object' when creating the ndarray\n",
      "  train_df = pd.concat(np.array(all_split_df)[folds_train])\n",
      "/tmp/ipykernel_7702/679163948.py:17: VisibleDeprecationWarning: Creating an ndarray from ragged nested sequences (which is a list-or-tuple of lists-or-tuples-or ndarrays with different lengths or shapes) is deprecated. If you meant to do this, you must specify 'dtype=object' when creating the ndarray\n",
      "  val_df = pd.concat(np.array(all_split_df)[folds_val])\n",
      "/tmp/ipykernel_7702/679163948.py:18: VisibleDeprecationWarning: Creating an ndarray from ragged nested sequences (which is a list-or-tuple of lists-or-tuples-or ndarrays with different lengths or shapes) is deprecated. If you meant to do this, you must specify 'dtype=object' when creating the ndarray\n",
      "  test_df = pd.concat(np.array(all_split_df)[folds_test])\n"
     ]
    },
    {
     "name": "stdout",
     "output_type": "stream",
     "text": [
      "[1.0, 1.0, 1.0, 1.0, 1.0]\n",
      " - samp_shared 1.0\n",
      "[1.0, 1.0, 1.0, 1.0, 1.0]\n",
      " - sub_shared 1.0\n",
      "\n",
      "\n",
      "\n",
      "ppgbp\n",
      "True ../datasets/preprocessed/PPGBP.pkl ../datasets/mix/PPGBP.pkl\n"
     ]
    },
    {
     "name": "stderr",
     "output_type": "stream",
     "text": [
      "/root/miniconda3/lib/python3.8/site-packages/pandas/core/frame.py:4163: SettingWithCopyWarning: \n",
      "A value is trying to be set on a copy of a slice from a DataFrame\n",
      "\n",
      "See the caveats in the documentation: https://pandas.pydata.org/pandas-docs/stable/user_guide/indexing.html#returning-a-view-versus-a-copy\n",
      "  return super().drop(\n",
      "/home/jovyan/BP/bp-algorithm/analysis/../code/process/data_splitting.py:147: VisibleDeprecationWarning: Creating an ndarray from ragged nested sequences (which is a list-or-tuple of lists-or-tuples-or ndarrays with different lengths or shapes) is deprecated. If you meant to do this, you must specify 'dtype=object' when creating the ndarray\n",
      "  train_df = pd.concat(np.array(all_split_df)[folds_train])\n",
      "/home/jovyan/BP/bp-algorithm/analysis/../code/process/data_splitting.py:148: VisibleDeprecationWarning: Creating an ndarray from ragged nested sequences (which is a list-or-tuple of lists-or-tuples-or ndarrays with different lengths or shapes) is deprecated. If you meant to do this, you must specify 'dtype=object' when creating the ndarray\n",
      "  val_df = pd.concat(np.array(all_split_df)[folds_val])\n",
      "/home/jovyan/BP/bp-algorithm/analysis/../code/process/data_splitting.py:149: VisibleDeprecationWarning: Creating an ndarray from ragged nested sequences (which is a list-or-tuple of lists-or-tuples-or ndarrays with different lengths or shapes) is deprecated. If you meant to do this, you must specify 'dtype=object' when creating the ndarray\n",
      "  test_df = pd.concat(np.array(all_split_df)[folds_test])\n"
     ]
    },
    {
     "name": "stdout",
     "output_type": "stream",
     "text": [
      "[2, 3, 4] [1] [0]\n",
      "[0, 3, 4] [2] [1]\n",
      "[0, 1, 4] [3] [2]\n",
      "[0, 1, 2] [4] [3]\n",
      "[1, 2, 3] [0] [4]\n",
      "SBP: MAE 16.3767 | ME 0.0015 | STD 20.4881\n",
      "DBP: MAE 8.8435 | ME -0.0001 | STD 11.2017\n",
      "total amount 619\n",
      "True ../datasets/preprocessed/PPGBP_feats.pkl ../datasets/mix/PPGBP_feats.pkl\n"
     ]
    },
    {
     "name": "stderr",
     "output_type": "stream",
     "text": [
      "/root/miniconda3/lib/python3.8/site-packages/pandas/core/frame.py:4163: SettingWithCopyWarning: \n",
      "A value is trying to be set on a copy of a slice from a DataFrame\n",
      "\n",
      "See the caveats in the documentation: https://pandas.pydata.org/pandas-docs/stable/user_guide/indexing.html#returning-a-view-versus-a-copy\n",
      "  return super().drop(\n",
      "/home/jovyan/BP/bp-algorithm/analysis/../code/process/data_splitting.py:147: VisibleDeprecationWarning: Creating an ndarray from ragged nested sequences (which is a list-or-tuple of lists-or-tuples-or ndarrays with different lengths or shapes) is deprecated. If you meant to do this, you must specify 'dtype=object' when creating the ndarray\n",
      "  train_df = pd.concat(np.array(all_split_df)[folds_train])\n",
      "/home/jovyan/BP/bp-algorithm/analysis/../code/process/data_splitting.py:148: VisibleDeprecationWarning: Creating an ndarray from ragged nested sequences (which is a list-or-tuple of lists-or-tuples-or ndarrays with different lengths or shapes) is deprecated. If you meant to do this, you must specify 'dtype=object' when creating the ndarray\n",
      "  val_df = pd.concat(np.array(all_split_df)[folds_val])\n",
      "/home/jovyan/BP/bp-algorithm/analysis/../code/process/data_splitting.py:149: VisibleDeprecationWarning: Creating an ndarray from ragged nested sequences (which is a list-or-tuple of lists-or-tuples-or ndarrays with different lengths or shapes) is deprecated. If you meant to do this, you must specify 'dtype=object' when creating the ndarray\n",
      "  test_df = pd.concat(np.array(all_split_df)[folds_test])\n",
      "/tmp/ipykernel_7702/679163948.py:16: VisibleDeprecationWarning: Creating an ndarray from ragged nested sequences (which is a list-or-tuple of lists-or-tuples-or ndarrays with different lengths or shapes) is deprecated. If you meant to do this, you must specify 'dtype=object' when creating the ndarray\n",
      "  train_df = pd.concat(np.array(all_split_df)[folds_train])\n",
      "/tmp/ipykernel_7702/679163948.py:17: VisibleDeprecationWarning: Creating an ndarray from ragged nested sequences (which is a list-or-tuple of lists-or-tuples-or ndarrays with different lengths or shapes) is deprecated. If you meant to do this, you must specify 'dtype=object' when creating the ndarray\n",
      "  val_df = pd.concat(np.array(all_split_df)[folds_val])\n",
      "/tmp/ipykernel_7702/679163948.py:18: VisibleDeprecationWarning: Creating an ndarray from ragged nested sequences (which is a list-or-tuple of lists-or-tuples-or ndarrays with different lengths or shapes) is deprecated. If you meant to do this, you must specify 'dtype=object' when creating the ndarray\n",
      "  test_df = pd.concat(np.array(all_split_df)[folds_test])\n"
     ]
    },
    {
     "name": "stdout",
     "output_type": "stream",
     "text": [
      "[2, 3, 4] [1] [0]\n",
      "[0, 3, 4] [2] [1]\n",
      "[0, 1, 4] [3] [2]\n",
      "[0, 1, 2] [4] [3]\n",
      "[1, 2, 3] [0] [4]\n",
      "SBP: MAE 16.3767 | ME 0.0015 | STD 20.4881\n",
      "DBP: MAE 8.8435 | ME -0.0001 | STD 11.2017\n",
      "total amount 619\n",
      "[0.9516129032258065, 0.9435483870967742, 0.9672131147540983, 0.9354838709677419, 0.936]\n",
      " - samp_shared 0.9467716552088842\n",
      "[0.9658119658119658, 0.9508196721311475, 0.9661016949152542, 0.9487179487179487, 0.95]\n",
      " - sub_shared 0.9562902563152633\n",
      "\n",
      "\n",
      "\n",
      "uci\n",
      "True ../datasets/preprocessed/UCI.pkl ../datasets/mix/UCI.pkl\n",
      "[2] [1] [0]\n"
     ]
    },
    {
     "name": "stderr",
     "output_type": "stream",
     "text": [
      "/home/jovyan/BP/bp-algorithm/analysis/../code/process/data_splitting.py:147: VisibleDeprecationWarning: Creating an ndarray from ragged nested sequences (which is a list-or-tuple of lists-or-tuples-or ndarrays with different lengths or shapes) is deprecated. If you meant to do this, you must specify 'dtype=object' when creating the ndarray\n",
      "  train_df = pd.concat(np.array(all_split_df)[folds_train])\n",
      "/home/jovyan/BP/bp-algorithm/analysis/../code/process/data_splitting.py:148: VisibleDeprecationWarning: Creating an ndarray from ragged nested sequences (which is a list-or-tuple of lists-or-tuples-or ndarrays with different lengths or shapes) is deprecated. If you meant to do this, you must specify 'dtype=object' when creating the ndarray\n",
      "  val_df = pd.concat(np.array(all_split_df)[folds_val])\n",
      "/home/jovyan/BP/bp-algorithm/analysis/../code/process/data_splitting.py:149: VisibleDeprecationWarning: Creating an ndarray from ragged nested sequences (which is a list-or-tuple of lists-or-tuples-or ndarrays with different lengths or shapes) is deprecated. If you meant to do this, you must specify 'dtype=object' when creating the ndarray\n",
      "  test_df = pd.concat(np.array(all_split_df)[folds_test])\n"
     ]
    },
    {
     "name": "stdout",
     "output_type": "stream",
     "text": [
      "SBP: MAE 17.9078 | ME 0.0910 | STD 22.0238\n",
      "DBP: MAE 8.5851 | ME 0.0418 | STD 11.1129\n",
      "total amount 410596\n",
      "True ../datasets/preprocessed/UCI_feats.pkl ../datasets/mix/UCI_feats.pkl\n",
      "[2] [1] [0]\n"
     ]
    },
    {
     "name": "stderr",
     "output_type": "stream",
     "text": [
      "/home/jovyan/BP/bp-algorithm/analysis/../code/process/data_splitting.py:147: VisibleDeprecationWarning: Creating an ndarray from ragged nested sequences (which is a list-or-tuple of lists-or-tuples-or ndarrays with different lengths or shapes) is deprecated. If you meant to do this, you must specify 'dtype=object' when creating the ndarray\n",
      "  train_df = pd.concat(np.array(all_split_df)[folds_train])\n",
      "/home/jovyan/BP/bp-algorithm/analysis/../code/process/data_splitting.py:148: VisibleDeprecationWarning: Creating an ndarray from ragged nested sequences (which is a list-or-tuple of lists-or-tuples-or ndarrays with different lengths or shapes) is deprecated. If you meant to do this, you must specify 'dtype=object' when creating the ndarray\n",
      "  val_df = pd.concat(np.array(all_split_df)[folds_val])\n",
      "/home/jovyan/BP/bp-algorithm/analysis/../code/process/data_splitting.py:149: VisibleDeprecationWarning: Creating an ndarray from ragged nested sequences (which is a list-or-tuple of lists-or-tuples-or ndarrays with different lengths or shapes) is deprecated. If you meant to do this, you must specify 'dtype=object' when creating the ndarray\n",
      "  test_df = pd.concat(np.array(all_split_df)[folds_test])\n"
     ]
    },
    {
     "name": "stdout",
     "output_type": "stream",
     "text": [
      "SBP: MAE 17.9078 | ME 0.0910 | STD 22.0238\n",
      "DBP: MAE 8.5851 | ME 0.0418 | STD 11.1129\n",
      "total amount 410596\n"
     ]
    },
    {
     "name": "stderr",
     "output_type": "stream",
     "text": [
      "/tmp/ipykernel_7702/679163948.py:16: VisibleDeprecationWarning: Creating an ndarray from ragged nested sequences (which is a list-or-tuple of lists-or-tuples-or ndarrays with different lengths or shapes) is deprecated. If you meant to do this, you must specify 'dtype=object' when creating the ndarray\n",
      "  train_df = pd.concat(np.array(all_split_df)[folds_train])\n",
      "/tmp/ipykernel_7702/679163948.py:17: VisibleDeprecationWarning: Creating an ndarray from ragged nested sequences (which is a list-or-tuple of lists-or-tuples-or ndarrays with different lengths or shapes) is deprecated. If you meant to do this, you must specify 'dtype=object' when creating the ndarray\n",
      "  val_df = pd.concat(np.array(all_split_df)[folds_val])\n",
      "/tmp/ipykernel_7702/679163948.py:18: VisibleDeprecationWarning: Creating an ndarray from ragged nested sequences (which is a list-or-tuple of lists-or-tuples-or ndarrays with different lengths or shapes) is deprecated. If you meant to do this, you must specify 'dtype=object' when creating the ndarray\n",
      "  test_df = pd.concat(np.array(all_split_df)[folds_test])\n"
     ]
    },
    {
     "name": "stdout",
     "output_type": "stream",
     "text": [
      "[0.9954505158355171, 0.9866990530868848, 0.9807239348804988]\n",
      " - samp_shared 0.9876245012676336\n",
      "[0.9614968635085442, 0.9189707707933642, 0.8384283754654125]\n",
      " - sub_shared 0.9062986699224403\n",
      "\n",
      "\n",
      "\n"
     ]
    }
   ],
   "source": [
    "for db in ['sensors', 'bcg', 'ppgbp', 'uci']:\n",
    "    print(db)\n",
    "    conf = OmegaConf.load(path_conf+db+'_split.yaml')\n",
    "    conf.param_split.is_mix = True\n",
    "    name_db = 'sensors85' if 'sensors'==db else db\n",
    "    if db=='uci':\n",
    "        conf.param_split.frac=0.25\n",
    "    \n",
    "    conf.path.processed_df_path = processed_df_path+name_db+'.pkl'\n",
    "    conf.path.split_df_path = split_df_path+name_db+'.pkl'\n",
    "    print(conf.param_split.is_mix, conf.path.processed_df_path, conf.path.split_df_path)\n",
    "    split(conf)\n",
    "    \n",
    "    conf.path.processed_df_path = processed_df_path+name_db+'_feats.pkl'\n",
    "    conf.path.split_df_path = split_df_path+name_db+'_feats.pkl'\n",
    "    print(conf.param_split.is_mix, conf.path.processed_df_path, conf.path.split_df_path)\n",
    "    split(conf)\n",
    "    \n",
    "    compute_mix_stats(conf)\n",
    "    \n",
    "    print()\n",
    "    print()\n",
    "    print()"
   ]
  },
  {
   "cell_type": "code",
   "execution_count": 150,
   "id": "d0cd581f-e681-4ba0-a87c-059df145a22e",
   "metadata": {},
   "outputs": [
    {
     "name": "stderr",
     "output_type": "stream",
     "text": [
      "/tmp/ipykernel_7702/146089765.py:16: VisibleDeprecationWarning: Creating an ndarray from ragged nested sequences (which is a list-or-tuple of lists-or-tuples-or ndarrays with different lengths or shapes) is deprecated. If you meant to do this, you must specify 'dtype=object' when creating the ndarray\n",
      "  train_df = pd.concat(np.array(all_split_df)[folds_train])\n",
      "/tmp/ipykernel_7702/146089765.py:17: VisibleDeprecationWarning: Creating an ndarray from ragged nested sequences (which is a list-or-tuple of lists-or-tuples-or ndarrays with different lengths or shapes) is deprecated. If you meant to do this, you must specify 'dtype=object' when creating the ndarray\n",
      "  val_df = pd.concat(np.array(all_split_df)[folds_val])\n",
      "/tmp/ipykernel_7702/146089765.py:18: VisibleDeprecationWarning: Creating an ndarray from ragged nested sequences (which is a list-or-tuple of lists-or-tuples-or ndarrays with different lengths or shapes) is deprecated. If you meant to do this, you must specify 'dtype=object' when creating the ndarray\n",
      "  test_df = pd.concat(np.array(all_split_df)[folds_test])\n"
     ]
    },
    {
     "name": "stdout",
     "output_type": "stream",
     "text": [
      "[0.9954505158355171]\n",
      " - samp_shared 0.9954505158355171\n",
      "[0.9614968635085442]\n",
      " - sub_shared 0.9614968635085442\n"
     ]
    },
    {
     "data": {
      "text/plain": [
       "([0.9954505158355171], [0.9614968635085442])"
      ]
     },
     "execution_count": 150,
     "metadata": {},
     "output_type": "execute_result"
    }
   ],
   "source": [
    "compute_mix_stats(conf)"
   ]
  },
  {
   "cell_type": "code",
   "execution_count": 167,
   "id": "0a611d07-2718-4de4-8ea1-e9cbc3755510",
   "metadata": {},
   "outputs": [],
   "source": [
    "for db in ['sensors85', 'bcg', 'ppgbp', 'uci']:\n",
    "    for end in ['','_feats']:\n",
    "        filename = f'../datasets/mix/{db}{end}.pkl'\n",
    "        all_split_df = joblib.load(filename)\n",
    "        for i in range(len(all_split_df)):\n",
    "            if 'agg_ohe' in all_split_df[i].columns:\n",
    "                all_split_df[i].drop(columns=['agg_ohe'], inplace=True)\n",
    "        joblib.dump(all_split_df, filename)"
   ]
  }
 ],
 "metadata": {
  "kernelspec": {
   "display_name": "Python 3 (ipykernel)",
   "language": "python",
   "name": "python3"
  },
  "language_info": {
   "codemirror_mode": {
    "name": "ipython",
    "version": 3
   },
   "file_extension": ".py",
   "mimetype": "text/x-python",
   "name": "python",
   "nbconvert_exporter": "python",
   "pygments_lexer": "ipython3",
   "version": "3.8.11"
  }
 },
 "nbformat": 4,
 "nbformat_minor": 5
}
