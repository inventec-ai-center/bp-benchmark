{
 "cells": [
  {
   "cell_type": "code",
   "execution_count": 1,
   "id": "bea99bfd-ce56-41a2-81b6-f7b2cd117f12",
   "metadata": {},
   "outputs": [],
   "source": [
    "from omegaconf import OmegaConf"
   ]
  },
  {
   "cell_type": "code",
   "execution_count": 2,
   "id": "6113123e-dc0f-4f8d-841f-a0b5fbabbfef",
   "metadata": {},
   "outputs": [],
   "source": [
    "config = OmegaConf.load('../code/train/core/config/dl/vnet/vnet_bcg.yaml')\n",
    "algs = ['mlpbp','ppgiabp','vnet','spectroresnet']"
   ]
  },
  {
   "cell_type": "code",
   "execution_count": 3,
   "id": "74975094-b3bf-4b32-94ac-f446150e8bde",
   "metadata": {},
   "outputs": [],
   "source": [
    "algs = ['mlpbp','ppgaibp','vnet','spectroresnet']\n",
    "dbs = ['sensors', 'uci2', 'bcg', 'ppgbp']"
   ]
  },
  {
   "cell_type": "code",
   "execution_count": 4,
   "id": "6cb9541c-23e0-4d04-b95f-4453010ce578",
   "metadata": {},
   "outputs": [],
   "source": [
    "for alg in algs:\n",
    "    for db in dbs:\n",
    "        if not((db=='ppgbp') and (alg in ['vnet','ppgaibp'])):\n",
    "            config = OmegaConf.load(f'../code/train/core/config/dl/{alg}/{alg}_{db}.yaml')\n",
    "            config_dic = {} \n",
    "            config_dic['exp'] = config['exp']\n",
    "            config_dic['param_loader'] = config['param_loader']\n",
    "            config_dic['param_test'] = {\n",
    "                'model_path': '../../models/model-${exp.model_type}/${exp.exp_name}-fold',\n",
    "                'save_path': '../../prediction/${exp.data_name}_dataset/${exp.exp_name}.pkl'\n",
    "            }\n",
    "            config_dic['param_trainer'] = {'gpus': '0'}\n",
    "            config_dic['param_model'] = config['param_model']\n",
    "            new = OmegaConf.create(config_dic)\n",
    "            OmegaConf.save(config=new, f=f'../code/train/core/config/test/dl/ts_{alg}_{db}.yaml')\n",
    "            "
   ]
  },
  {
   "cell_type": "code",
   "execution_count": 8,
   "id": "6c2c58e0-8290-481e-ad27-d2aaa28be8dc",
   "metadata": {},
   "outputs": [
    {
     "data": {
      "text/plain": [
       "True"
      ]
     },
     "execution_count": 8,
     "metadata": {},
     "output_type": "execute_result"
    }
   ],
   "source": [
    "'param_trainer' in new.keys()"
   ]
  },
  {
   "cell_type": "code",
   "execution_count": 6,
   "id": "9e2e1b8b-0f80-46ad-ad20-fe55ee1e2855",
   "metadata": {},
   "outputs": [
    {
     "data": {
      "text/plain": [
       "{'exp': {'fs': 125, 'N_fold': 5, 'random_state': 100, 'data_name': 'ppgbp', 'model_type': 'mlpbp', 'exp_name': '${exp.data_name}-${exp.model_type}', 'subject_dict': '../../datasets/splitted/${exp.data_name}_dataset/signal_fold', 'loader': 'waveform', 'cv': 'cv'}, 'param_loader': {'ppg_norm': 'loc_mm', 'bp_norm': 'glob_mm'}, 'param_test': {'model_path': '../../models/model-${exp.model_type}/${exp.exp_name}-fold', 'save_path': '../../prediction/${exp.data_name}_dataset/${exp.exp_name}.pkl'}, 'param_model': {'N_epoch': 256, 'batch_size': 32, 'lr': 0.001, 'in_channels': 1, 'num_patch': 262, 'num_classes': 2, 'dim': 128, 'depth': 6, 'token_dim': 512, 'channel_dim': 512, 'dropout': 0.2}}"
      ]
     },
     "execution_count": 6,
     "metadata": {},
     "output_type": "execute_result"
    }
   ],
   "source": [
    "OmegaConf.load('../code/train/core/config/test/dl/ts_mlpbp_ppgbp.yaml')"
   ]
  },
  {
   "cell_type": "code",
   "execution_count": 29,
   "id": "8fa68512-681e-47ed-98c4-d37a3fc4d126",
   "metadata": {},
   "outputs": [],
   "source": []
  },
  {
   "cell_type": "code",
   "execution_count": 5,
   "id": "fe8e7378-8ad0-4995-8715-b4dbbfe5abc9",
   "metadata": {},
   "outputs": [],
   "source": [
    "config_dic = {} "
   ]
  },
  {
   "cell_type": "code",
   "execution_count": 23,
   "id": "c16b8f6f-1fe2-463d-82e8-60b4e309ba86",
   "metadata": {},
   "outputs": [
    {
     "data": {
      "text/plain": [
       "{'exp': {'fs': 125, 'N_fold': 5, 'random_state': 100, 'model_type': 'spectroresnet', 'data_name': 'sensors', 'exp_name': '${exp.data_name}-${exp.model_type}', 'subject_dict': '../../datasets/splitted/${exp.data_name}_dataset/signal_fold', 'loader': 'waveform', 'cv': 'cv'},\n",
       " 'param_loader': {'ppg_norm': 'loc_z', 'bp_norm': 'glob_mm'},\n",
       " 'param_model': {'N_epoch': 256, 'batch_size': 256, 'lr': 0.001, 'in_channel': 1, 'num_filters': 32, 'num_res_blocks': 4, 'cnn_per_res': 3, 'kernel_sizes': [8, 5, 3], 'max_filters': 64, 'pool_size': 3, 'pool_stride_size': 2, 'n_dft': 16, 'n_hop': 16, 'fmin': 0.0, 'fmax': 25, 'mlp_size': 351, 'mid_hidden': 64, 'gru_hidden': 64, 'UseDerivative': False, 'model_verbose': False},\n",
       " 'param_test': {'model_path': '../../models/model-${exp.model_type}/${exp.exp_name}-fold',\n",
       "  'save_path': '../../prediction/${exp.data_name}_dataset/${exp.exp_name}.pkl'}}"
      ]
     },
     "execution_count": 23,
     "metadata": {},
     "output_type": "execute_result"
    }
   ],
   "source": [
    "config_dic"
   ]
  },
  {
   "cell_type": "code",
   "execution_count": 11,
   "id": "86427076-7374-47e0-9804-c3bf71fb747c",
   "metadata": {},
   "outputs": [
    {
     "data": {
      "text/plain": [
       "{'fs': 125, 'N_fold': 5, 'random_state': 100, 'model_type': 'vnet', 'data_name': 'bcg', 'exp_name': '${exp.data_name}-${exp.model_type}', 'subject_dict': '../../datasets/splitted/${exp.data_name}_dataset/signal_fold', 'loader': 'waveform', 'cv': 'cv'}"
      ]
     },
     "execution_count": 11,
     "metadata": {},
     "output_type": "execute_result"
    }
   ],
   "source": []
  },
  {
   "cell_type": "code",
   "execution_count": 13,
   "id": "57022dc6-9d80-4df4-900e-e8600be0dad4",
   "metadata": {},
   "outputs": [],
   "source": []
  },
  {
   "cell_type": "code",
   "execution_count": 16,
   "id": "7eb4e677-e742-44f1-9e6e-1e8a6feeae15",
   "metadata": {},
   "outputs": [
    {
     "data": {
      "text/plain": [
       "{'exp': {'fs': 125, 'N_fold': 5, 'random_state': 100, 'model_type': 'vnet', 'data_name': 'bcg', 'exp_name': '${exp.data_name}-${exp.model_type}', 'subject_dict': '../../datasets/splitted/${exp.data_name}_dataset/signal_fold', 'loader': 'waveform', 'cv': 'cv'},\n",
       " 'param_loader': {'ppg_norm': 'loc_z', 'bp_norm': 'glob_mm'},\n",
       " 'param_model': {'N_epoch': 256, 'batch_size': 256, 'lr': 0.001, 'loss': ['mse', 'peak_loss'], 'n_channels': 1, 'f_kernel_size': 5, 'f_out_ch': 16, 'f_padding': 2, 'num_convolutions': [2, 2, 2], 'kernel_size': 5, 'factor': 2, 'dropout_rate': 0.1, 'bottom_convolutions': 3, 'up_pad': 2, 'up_out_pad': 0}}"
      ]
     },
     "execution_count": 16,
     "metadata": {},
     "output_type": "execute_result"
    }
   ],
   "source": [
    "config_dic"
   ]
  },
  {
   "cell_type": "code",
   "execution_count": null,
   "id": "09d37b6c-60f4-4285-bdd7-cd35cad487f0",
   "metadata": {},
   "outputs": [],
   "source": []
  }
 ],
 "metadata": {
  "kernelspec": {
   "display_name": "Python 3 (ipykernel)",
   "language": "python",
   "name": "python3"
  },
  "language_info": {
   "codemirror_mode": {
    "name": "ipython",
    "version": 3
   },
   "file_extension": ".py",
   "mimetype": "text/x-python",
   "name": "python",
   "nbconvert_exporter": "python",
   "pygments_lexer": "ipython3",
   "version": "3.8.11"
  }
 },
 "nbformat": 4,
 "nbformat_minor": 5
}
