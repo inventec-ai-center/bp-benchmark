{
 "cells": [
  {
   "cell_type": "code",
   "execution_count": 1,
   "id": "15cd52ec-7e55-4d57-924c-48d10e33d9fe",
   "metadata": {},
   "outputs": [],
   "source": [
    "import pandas as pd\n",
    "import numpy as np\n",
    "import matplotlib.pyplot as plt\n",
    "\n",
    "import sys, os\n",
    "sys.path.append('../code/process/')\n",
    "import cleaning\n",
    "from omegaconf import OmegaConf"
   ]
  },
  {
   "cell_type": "code",
   "execution_count": 2,
   "id": "97a62869-d50b-4f08-82e7-9f81396e2388",
   "metadata": {},
   "outputs": [],
   "source": [
    "# NAS: /AIC-shared1/BP-paper-data/segmented/uci_data_5s.pkl\n",
    "df = pd.read_pickle('../datasets/segmented/UCI.pkl')\n",
    "args = OmegaConf.load('../code/process/core/config/preprocessing/uci_clean.yaml')\n",
    "os.makedirs(os.path.dirname(args.path.log), exist_ok=True)\n",
    "cl_log = open(args.path.log, \"w\") ## Read logging file"
   ]
  },
  {
   "cell_type": "code",
   "execution_count": 3,
   "id": "606ecce0-16bb-42a9-914f-386a72b488f8",
   "metadata": {},
   "outputs": [
    {
     "name": "stdout",
     "output_type": "stream",
     "text": [
      "--- Abnormal ABP values ---\n",
      "data size:  11841, 11841, 518020\n",
      "--- ABP Peaks and valleys computation ---\n",
      "--- Number of heart cycles (ABP) ---\n",
      "data size:  11823, 11823, 516770\n",
      "--- BPM limitation (ABP) ---\n",
      "data size:  11803, 11803, 515815\n",
      "--- Pulse pressure limitation (ABP) ---\n",
      "data size:  11788, 11788, 515359\n",
      "--- PPG Peaks and valleys computation ---\n",
      "data size:  11785, 11785, 515324\n",
      "--- BPM limitation (PPG) ---\n",
      "data size:  11710, 11710, 509453\n"
     ]
    }
   ],
   "source": [
    "   #---------- ABP ----------#\n",
    "#---------- Filter bad ABP ----------#\n",
    "cleaning._print_step(\"Abnormal ABP values\",cl_log)\n",
    "df = cleaning._compute_naive_BP(df)\n",
    "df = cleaning._abnormal_BP(df, args, cl_log, isABP=True)\n",
    "cleaning._print_n_samples(df, cl_log)\n",
    "\n",
    "#---------- ABP Peaks and valleys computation ----------#\n",
    "cleaning._print_step(\"ABP Peaks and valleys computation\",cl_log)\n",
    "df = cleaning._compute_corrected_pks_vlys(df, args, isABP=True)\n",
    "\n",
    "cleaning._print_step(\"Number of heart cycles (ABP)\",cl_log)\n",
    "df = cleaning._remove_amount_peaks_valleys(df, args, cl_log)\n",
    "cleaning._print_n_samples(df, cl_log)\n",
    "\n",
    "#---------- BPM limitation ----------#\n",
    "cleaning._print_step(\"BPM limitation (ABP)\",cl_log)\n",
    "df = cleaning._compute_quality_idx(df, args, isABP=True)\n",
    "df = cleaning._limitation_bpm(df, args, cl_log, isABP=True)\n",
    "cleaning._print_n_samples(df, cl_log)\n",
    "\n",
    "#---------- Pulse pressure ----------#\n",
    "cleaning._print_step(\"Pulse pressure limitation (ABP)\",cl_log)\n",
    "df = cleaning._compute_BP_labels(df) #Compute BP labels\n",
    "df = cleaning._remove_pulse_pressure(df, args, cl_log)\n",
    "cleaning._print_n_samples(df, cl_log)\n",
    "\n",
    "#---------- PPG ----------#\n",
    "\n",
    "#---------- PPG Peaks and valleys computation ----------#\n",
    "cleaning._print_step(\"PPG Peaks and valleys computation\",cl_log)\n",
    "df = cleaning._all_peaks_valleys(df, args, cl_log)\n",
    "cleaning._print_n_samples(df, cl_log)\n",
    "\n",
    "#---------- BPM limitation (PPG) ----------#\n",
    "cleaning._print_step(\"BPM limitation (PPG)\",cl_log)\n",
    "df = cleaning._compute_quality_idx(df, args, isABP=False)\n",
    "df = cleaning._limitation_bpm(df, args, cl_log, isABP=False)\n",
    "cleaning._print_n_samples(df, cl_log)"
   ]
  },
  {
   "cell_type": "code",
   "execution_count": 4,
   "id": "97952abe-5512-4ba8-a4bd-9788919f4528",
   "metadata": {},
   "outputs": [
    {
     "data": {
      "text/html": [
       "<div>\n",
       "<style scoped>\n",
       "    .dataframe tbody tr th:only-of-type {\n",
       "        vertical-align: middle;\n",
       "    }\n",
       "\n",
       "    .dataframe tbody tr th {\n",
       "        vertical-align: top;\n",
       "    }\n",
       "\n",
       "    .dataframe thead th {\n",
       "        text-align: right;\n",
       "    }\n",
       "</style>\n",
       "<table border=\"1\" class=\"dataframe\">\n",
       "  <thead>\n",
       "    <tr style=\"text-align: right;\">\n",
       "      <th></th>\n",
       "      <th>patient</th>\n",
       "      <th>trial</th>\n",
       "      <th>signal</th>\n",
       "      <th>abp_signal</th>\n",
       "      <th>SP</th>\n",
       "      <th>DP</th>\n",
       "      <th>bp_dif</th>\n",
       "      <th>abp_flag1</th>\n",
       "      <th>abp_flag2</th>\n",
       "      <th>abp_pks</th>\n",
       "      <th>...</th>\n",
       "      <th>ppg_pks_amp</th>\n",
       "      <th>ppg_pks_amp_std</th>\n",
       "      <th>ppg_pks_amp_dif_std</th>\n",
       "      <th>ppg_v2v_dif</th>\n",
       "      <th>ppg_v2v</th>\n",
       "      <th>ppg_vlys_bpm</th>\n",
       "      <th>ppg_v2v_std</th>\n",
       "      <th>ppg_vlys_amp</th>\n",
       "      <th>ppg_vlys_amp_std</th>\n",
       "      <th>ppg_vlys_amp_dif_std</th>\n",
       "    </tr>\n",
       "  </thead>\n",
       "  <tbody>\n",
       "    <tr>\n",
       "      <th>0</th>\n",
       "      <td>Part_1_0</td>\n",
       "      <td>Part_1_0_0</td>\n",
       "      <td>[1.7380254154447703, 1.95405669599218, 2.17106...</td>\n",
       "      <td>[67.0629551659967, 69.3586280667992, 75.366452...</td>\n",
       "      <td>121.621820</td>\n",
       "      <td>67.185065</td>\n",
       "      <td>54.436754</td>\n",
       "      <td>False</td>\n",
       "      <td>False</td>\n",
       "      <td>[73, 136, 197, 258, 321, 382, 443, 503, 563]</td>\n",
       "      <td>...</td>\n",
       "      <td>[2.9178885630498534, 2.8905180840664713, 2.808...</td>\n",
       "      <td>0.087312</td>\n",
       "      <td>0.106593</td>\n",
       "      <td>[62, 62, 61, 62, 61, 62, 60, 60, 61]</td>\n",
       "      <td>61.0</td>\n",
       "      <td>122.95082</td>\n",
       "      <td>0.785674</td>\n",
       "      <td>[1.1358748778103618, 1.121212121212121, 1.0664...</td>\n",
       "      <td>0.040183</td>\n",
       "      <td>0.062152</td>\n",
       "    </tr>\n",
       "    <tr>\n",
       "      <th>1</th>\n",
       "      <td>Part_1_0</td>\n",
       "      <td>Part_1_0_1</td>\n",
       "      <td>[2.9853372434017595, 2.9667644183773216, 2.936...</td>\n",
       "      <td>[124.99206283305574, 124.40593358178702, 123.5...</td>\n",
       "      <td>124.357089</td>\n",
       "      <td>68.967875</td>\n",
       "      <td>55.389214</td>\n",
       "      <td>False</td>\n",
       "      <td>False</td>\n",
       "      <td>[60, 120, 179, 240, 300, 361, 421, 481, 541]</td>\n",
       "      <td>...</td>\n",
       "      <td>[2.8944281524926687, 2.7722385141739982, 2.722...</td>\n",
       "      <td>0.084831</td>\n",
       "      <td>0.100652</td>\n",
       "      <td>[60, 60, 60, 60, 61, 60, 60, 60, 61]</td>\n",
       "      <td>60.0</td>\n",
       "      <td>125.00000</td>\n",
       "      <td>0.415740</td>\n",
       "      <td>[1.115347018572825, 1.0312805474095796, 1.0029...</td>\n",
       "      <td>0.061145</td>\n",
       "      <td>0.083547</td>\n",
       "    </tr>\n",
       "    <tr>\n",
       "      <th>2</th>\n",
       "      <td>Part_1_0</td>\n",
       "      <td>Part_1_0_2</td>\n",
       "      <td>[1.5757575757575757, 1.5513196480938416, 1.526...</td>\n",
       "      <td>[81.86271876053202, 81.56965413489766, 81.1789...</td>\n",
       "      <td>125.871257</td>\n",
       "      <td>69.773803</td>\n",
       "      <td>56.097454</td>\n",
       "      <td>False</td>\n",
       "      <td>False</td>\n",
       "      <td>[38, 98, 158, 219, 280, 341, 402, 462, 523]</td>\n",
       "      <td>...</td>\n",
       "      <td>[2.9120234604105573, 2.7976539589442817, 2.888...</td>\n",
       "      <td>0.064865</td>\n",
       "      <td>0.088126</td>\n",
       "      <td>[61, 60, 61, 61, 61, 60, 61, 61, 60]</td>\n",
       "      <td>61.0</td>\n",
       "      <td>122.95082</td>\n",
       "      <td>0.471405</td>\n",
       "      <td>[1.1241446725317692, 0.9853372434017595, 1.111...</td>\n",
       "      <td>0.044948</td>\n",
       "      <td>0.077278</td>\n",
       "    </tr>\n",
       "    <tr>\n",
       "      <th>3</th>\n",
       "      <td>Part_1_0</td>\n",
       "      <td>Part_1_0_3</td>\n",
       "      <td>[1.0009775171065494, 0.9804496578690127, 0.961...</td>\n",
       "      <td>[70.9216394035158, 70.53088656933666, 70.09128...</td>\n",
       "      <td>122.671968</td>\n",
       "      <td>67.111799</td>\n",
       "      <td>55.560169</td>\n",
       "      <td>False</td>\n",
       "      <td>False</td>\n",
       "      <td>[20, 81, 143, 204, 265, 325, 386, 447, 508, 569]</td>\n",
       "      <td>...</td>\n",
       "      <td>[2.811339198435973, 2.9042033235581624, 2.9824...</td>\n",
       "      <td>0.074758</td>\n",
       "      <td>0.090738</td>\n",
       "      <td>[60, 61, 61, 62, 60, 61, 61, 61, 61, 60]</td>\n",
       "      <td>61.0</td>\n",
       "      <td>122.95082</td>\n",
       "      <td>0.600000</td>\n",
       "      <td>[0.9208211143695014, 1.0654936461388074, 1.064...</td>\n",
       "      <td>0.081663</td>\n",
       "      <td>0.076435</td>\n",
       "    </tr>\n",
       "    <tr>\n",
       "      <th>4</th>\n",
       "      <td>Part_1_0</td>\n",
       "      <td>Part_1_0_4</td>\n",
       "      <td>[2.7370478983382207, 2.7810361681329425, 2.803...</td>\n",
       "      <td>[115.66283891702852, 118.98423800755131, 121.1...</td>\n",
       "      <td>125.578192</td>\n",
       "      <td>69.212096</td>\n",
       "      <td>56.366096</td>\n",
       "      <td>False</td>\n",
       "      <td>False</td>\n",
       "      <td>[64, 124, 185, 245, 305, 365, 425, 485, 546]</td>\n",
       "      <td>...</td>\n",
       "      <td>[2.809384164222874, 2.986314760508309, 2.97262...</td>\n",
       "      <td>0.082992</td>\n",
       "      <td>0.098903</td>\n",
       "      <td>[60, 61, 61, 59, 60, 60, 60, 61, 60]</td>\n",
       "      <td>60.0</td>\n",
       "      <td>125.00000</td>\n",
       "      <td>0.628539</td>\n",
       "      <td>[1.1730205278592376, 1.0977517106549364, 1.088...</td>\n",
       "      <td>0.070587</td>\n",
       "      <td>0.072146</td>\n",
       "    </tr>\n",
       "  </tbody>\n",
       "</table>\n",
       "<p>5 rows × 42 columns</p>\n",
       "</div>"
      ],
      "text/plain": [
       "    patient       trial                                             signal  \\\n",
       "0  Part_1_0  Part_1_0_0  [1.7380254154447703, 1.95405669599218, 2.17106...   \n",
       "1  Part_1_0  Part_1_0_1  [2.9853372434017595, 2.9667644183773216, 2.936...   \n",
       "2  Part_1_0  Part_1_0_2  [1.5757575757575757, 1.5513196480938416, 1.526...   \n",
       "3  Part_1_0  Part_1_0_3  [1.0009775171065494, 0.9804496578690127, 0.961...   \n",
       "4  Part_1_0  Part_1_0_4  [2.7370478983382207, 2.7810361681329425, 2.803...   \n",
       "\n",
       "                                          abp_signal          SP         DP  \\\n",
       "0  [67.0629551659967, 69.3586280667992, 75.366452...  121.621820  67.185065   \n",
       "1  [124.99206283305574, 124.40593358178702, 123.5...  124.357089  68.967875   \n",
       "2  [81.86271876053202, 81.56965413489766, 81.1789...  125.871257  69.773803   \n",
       "3  [70.9216394035158, 70.53088656933666, 70.09128...  122.671968  67.111799   \n",
       "4  [115.66283891702852, 118.98423800755131, 121.1...  125.578192  69.212096   \n",
       "\n",
       "      bp_dif  abp_flag1  abp_flag2  \\\n",
       "0  54.436754      False      False   \n",
       "1  55.389214      False      False   \n",
       "2  56.097454      False      False   \n",
       "3  55.560169      False      False   \n",
       "4  56.366096      False      False   \n",
       "\n",
       "                                            abp_pks  ...  \\\n",
       "0      [73, 136, 197, 258, 321, 382, 443, 503, 563]  ...   \n",
       "1      [60, 120, 179, 240, 300, 361, 421, 481, 541]  ...   \n",
       "2       [38, 98, 158, 219, 280, 341, 402, 462, 523]  ...   \n",
       "3  [20, 81, 143, 204, 265, 325, 386, 447, 508, 569]  ...   \n",
       "4      [64, 124, 185, 245, 305, 365, 425, 485, 546]  ...   \n",
       "\n",
       "                                         ppg_pks_amp ppg_pks_amp_std  \\\n",
       "0  [2.9178885630498534, 2.8905180840664713, 2.808...        0.087312   \n",
       "1  [2.8944281524926687, 2.7722385141739982, 2.722...        0.084831   \n",
       "2  [2.9120234604105573, 2.7976539589442817, 2.888...        0.064865   \n",
       "3  [2.811339198435973, 2.9042033235581624, 2.9824...        0.074758   \n",
       "4  [2.809384164222874, 2.986314760508309, 2.97262...        0.082992   \n",
       "\n",
       "   ppg_pks_amp_dif_std                               ppg_v2v_dif  ppg_v2v  \\\n",
       "0             0.106593      [62, 62, 61, 62, 61, 62, 60, 60, 61]     61.0   \n",
       "1             0.100652      [60, 60, 60, 60, 61, 60, 60, 60, 61]     60.0   \n",
       "2             0.088126      [61, 60, 61, 61, 61, 60, 61, 61, 60]     61.0   \n",
       "3             0.090738  [60, 61, 61, 62, 60, 61, 61, 61, 61, 60]     61.0   \n",
       "4             0.098903      [60, 61, 61, 59, 60, 60, 60, 61, 60]     60.0   \n",
       "\n",
       "  ppg_vlys_bpm  ppg_v2v_std  \\\n",
       "0    122.95082     0.785674   \n",
       "1    125.00000     0.415740   \n",
       "2    122.95082     0.471405   \n",
       "3    122.95082     0.600000   \n",
       "4    125.00000     0.628539   \n",
       "\n",
       "                                        ppg_vlys_amp ppg_vlys_amp_std  \\\n",
       "0  [1.1358748778103618, 1.121212121212121, 1.0664...         0.040183   \n",
       "1  [1.115347018572825, 1.0312805474095796, 1.0029...         0.061145   \n",
       "2  [1.1241446725317692, 0.9853372434017595, 1.111...         0.044948   \n",
       "3  [0.9208211143695014, 1.0654936461388074, 1.064...         0.081663   \n",
       "4  [1.1730205278592376, 1.0977517106549364, 1.088...         0.070587   \n",
       "\n",
       "   ppg_vlys_amp_dif_std  \n",
       "0              0.062152  \n",
       "1              0.083547  \n",
       "2              0.077278  \n",
       "3              0.076435  \n",
       "4              0.072146  \n",
       "\n",
       "[5 rows x 42 columns]"
      ]
     },
     "execution_count": 4,
     "metadata": {},
     "output_type": "execute_result"
    }
   ],
   "source": [
    "df.head()"
   ]
  },
  {
   "cell_type": "code",
   "execution_count": 5,
   "id": "e2a95809-154e-4bb3-80b4-3599064c0176",
   "metadata": {},
   "outputs": [
    {
     "data": {
      "text/plain": [
       "Index(['patient', 'trial', 'signal', 'abp_signal', 'SP', 'DP', 'bp_dif',\n",
       "       'abp_flag1', 'abp_flag2', 'abp_pks', 'abp_vlys', 'abp_p2p_dif',\n",
       "       'abp_p2p', 'abp_pks_bpm', 'abp_p2p_std', 'abp_pks_amp',\n",
       "       'abp_pks_amp_std', 'abp_pks_amp_dif_std', 'abp_v2v_dif', 'abp_v2v',\n",
       "       'abp_vlys_bpm', 'abp_v2v_std', 'abp_vlys_amp', 'abp_vlys_amp_std',\n",
       "       'abp_vlys_amp_dif_std', 'abp_p2v_amp', 'ppg_pks', 'ppg_vlys',\n",
       "       'ppg_p2p_dif', 'ppg_p2p', 'ppg_pks_bpm', 'ppg_p2p_std', 'ppg_pks_amp',\n",
       "       'ppg_pks_amp_std', 'ppg_pks_amp_dif_std', 'ppg_v2v_dif', 'ppg_v2v',\n",
       "       'ppg_vlys_bpm', 'ppg_v2v_std', 'ppg_vlys_amp', 'ppg_vlys_amp_std',\n",
       "       'ppg_vlys_amp_dif_std'],\n",
       "      dtype='object')"
      ]
     },
     "execution_count": 5,
     "metadata": {},
     "output_type": "execute_result"
    }
   ],
   "source": [
    "df.columns"
   ]
  },
  {
   "cell_type": "code",
   "execution_count": 6,
   "id": "4920c2f4-11fd-4b20-8fb4-7034814432c5",
   "metadata": {},
   "outputs": [],
   "source": [
    "th_p2p_std = args.distorted_th.th_p2p_std\n",
    "th_amp_ppg_std = args.distorted_th.th_amp_ppg_std"
   ]
  },
  {
   "cell_type": "code",
   "execution_count": 37,
   "id": "856d3a6c-c227-4e32-8e8a-2425c6d13e38",
   "metadata": {},
   "outputs": [
    {
     "data": {
      "text/plain": [
       "(30, 0.5)"
      ]
     },
     "execution_count": 37,
     "metadata": {},
     "output_type": "execute_result"
    }
   ],
   "source": [
    "th_p2p_std,th_amp_ppg_std"
   ]
  },
  {
   "cell_type": "code",
   "execution_count": 7,
   "id": "238ddff9-320e-4969-92af-d18c9a449dc3",
   "metadata": {},
   "outputs": [],
   "source": [
    "fsize=14"
   ]
  },
  {
   "cell_type": "code",
   "execution_count": 8,
   "id": "e09e643f-3282-45ae-a507-0ae0a03b14a1",
   "metadata": {},
   "outputs": [],
   "source": [
    "plt.rcParams.update({'figure.autolayout': True})"
   ]
  },
  {
   "cell_type": "code",
   "execution_count": 9,
   "id": "b310419a-28c6-43bb-ae63-0ad2738cc098",
   "metadata": {},
   "outputs": [
    {
     "data": {
      "text/plain": [
       "<Figure size 504x360 with 0 Axes>"
      ]
     },
     "execution_count": 9,
     "metadata": {},
     "output_type": "execute_result"
    },
    {
     "data": {
      "text/plain": [
       "<Figure size 504x360 with 0 Axes>"
      ]
     },
     "metadata": {},
     "output_type": "display_data"
    }
   ],
   "source": [
    "plt.figure(figsize=(7,5))"
   ]
  },
  {
   "cell_type": "code",
   "execution_count": 26,
   "id": "64cfc127-6f34-4512-9fbe-64ebcd7b79e1",
   "metadata": {},
   "outputs": [
    {
     "name": "stdout",
     "output_type": "stream",
     "text": [
      "99.60585176650251\n",
      "97.26726508627881\n"
     ]
    },
    {
     "data": {
      "image/png": "[encoded data removed]",
      "text/plain": [
       "<Figure size 504x360 with 1 Axes>"
      ]
     },
     "metadata": {
      "needs_background": "light"
     },
     "output_type": "display_data"
    }
   ],
   "source": [
    "bins = 100\n",
    "th = th_p2p_std\n",
    "fig = plt.figure(figsize=(7,5))\n",
    "\n",
    "dic_names={\n",
    "    'abp_p2p_std':\"ABP's peak to peak\",\n",
    "    'ppg_p2p_std':\"PPG's peak to peak\",\n",
    "    'abp_v2v_std':\"ABP's valley to valley\",\n",
    "    'ppg_v2v_std':\"PPG's valley to valley\",\n",
    "    'abp_pks_amp_std':\"ABP's peaks\",\n",
    "    'ppg_pks_amp_std':\"PPG's peaks\",\n",
    "    'abp_vlys_amp_std':\"ABP's valleys\",\n",
    "    'ppg_vlys_amp_std':\"PPG's valleys\",\n",
    "    \n",
    "}\n",
    "for var,c in zip(['ppg_p2p_std' ,'ppg_v2v_std'],\n",
    "              [plt.cm.tab20(2),plt.cm.tab20(3)]):\n",
    "    if 'v2v' in var:\n",
    "        ls='--'\n",
    "    else:\n",
    "        ls='-'\n",
    "        \n",
    "    data = df[var].values\n",
    "    values, base = np.histogram(data, bins=bins)\n",
    "    cumulative = np.cumsum(values)/len(data)*100\n",
    "    #per = sum(data <= th)/len(data) * 100\n",
    "    plt.plot(base[:-1], cumulative, linewidth=3, label=dic_names[var], color=c, ls=ls)\n",
    "    c_alt = plt.cm.tab20(0) if 'abp' in var else plt.cm.tab20(2)\n",
    "    #plt.scatter(th,cumulative[(base<th).sum()], s=45, color=c_alt, zorder=3)\n",
    "    print(cumulative[(base<th).sum()])\n",
    " \n",
    "'''\n",
    "#98.72605446267502\n",
    "plt.scatter(th,98.67, s=45, color=plt.cm.tab20(0), zorder=3)\n",
    "#97.56056180740487\n",
    "plt.scatter(th,97.5, s=45, color=plt.cm.tab20(0), zorder=3)\n",
    "'''\n",
    "#99.60585176650251\n",
    "plt.scatter(th,99.585, s=45, color=plt.cm.tab20(2), zorder=3)\n",
    "#97.26726508627881\n",
    "plt.scatter(th,96.95, s=45, color=plt.cm.tab20(2), zorder=3)\n",
    "\n",
    "\n",
    "plt.axvline(th, 0, 1, ls=':', color='tab:grey', linewidth=2)\n",
    "plt.ylim(93,100.3)\n",
    "plt.xlim(0,70)\n",
    "plt.legend(loc=(0.52, 0.03),fontsize=fsize,frameon=False)\n",
    "plt.xticks(size=12)\n",
    "plt.yticks(size=12)\n",
    "plt.xlabel('Standard deviation of intervals',size=fsize)\n",
    "plt.ylabel('Cumulative percentage of samples',size=fsize)\n",
    "\n",
    "'''\n",
    "ax2=plt.twiny()\n",
    "plt.xticks(weight = 'bold')\n",
    "ax2.tick_params(axis='both', which='both', labelsize=12)\n",
    "ax2.tick_params(axis='x', colors='w')\n",
    "'''\n",
    "\n",
    "\n",
    "fig.tight_layout()\n",
    "plt.savefig('./fig-BP/th_plot_dis.pdf',format='pdf', dpi=300)\n",
    "plt.show()"
   ]
  },
  {
   "cell_type": "code",
   "execution_count": 36,
   "id": "18d41de6-8d9b-43c4-bedd-569ec2728746",
   "metadata": {},
   "outputs": [
    {
     "name": "stdout",
     "output_type": "stream",
     "text": [
      "98.55629469254279\n",
      "99.02974366624595\n"
     ]
    },
    {
     "data": {
      "image/png": "[encoded data removed]",
      "text/plain": [
       "<Figure size 504x360 with 1 Axes>"
      ]
     },
     "metadata": {
      "needs_background": "light"
     },
     "output_type": "display_data"
    }
   ],
   "source": [
    "plt.figure(figsize=(7,5))\n",
    "bins = 100\n",
    "th = th_amp_ppg_std\n",
    "\n",
    "for var,c in zip(['ppg_pks_amp_std' ,'ppg_vlys_amp_std'],\n",
    "              [plt.cm.tab20(2),plt.cm.tab20(3)]):\n",
    "    if 'vlys' in var:\n",
    "        ls='--'\n",
    "    else:\n",
    "        ls='-'\n",
    "        \n",
    "    data = df[var].values\n",
    "    values, base = np.histogram(data, bins=bins)\n",
    "    cumulative = np.cumsum(values)/len(data)*100\n",
    "    #per = sum(data <= th)/len(data) * 100\n",
    "    plt.plot(base[:-1], cumulative, linewidth=3, label=dic_names[var], color=c, ls=ls)\n",
    "    c_alt = plt.cm.tab20(0) if 'abp' in var else plt.cm.tab20(2)\n",
    "    #plt.scatter(th,cumulative[(base<th).sum()], s=45, color=c_alt, zorder=3)\n",
    "    print(cumulative[(base<th).sum()])\n",
    "    \n",
    "#98.55629469254279\n",
    "plt.scatter(th,98.54, s=45, color=plt.cm.tab20(2), zorder=3)\n",
    "#99.02974366624595\n",
    "plt.scatter(th,99.005, s=45, color=plt.cm.tab20(2), zorder=3)\n",
    "\n",
    "\n",
    "plt.axvline(th, 0, 1, ls=':', color='tab:grey', linewidth=2)\n",
    "plt.ylim(93,100.3)\n",
    "plt.xlim(0,1.12)\n",
    "plt.legend(loc=(0.65, 0.03),fontsize=fsize,frameon=False)\n",
    "plt.xticks(size=12)\n",
    "plt.yticks(size=12)\n",
    "plt.xlabel('Standard deviation of intervals',size=fsize)\n",
    "plt.ylabel('Cumulative percentage of samples',size=fsize)\n",
    "\n",
    "'''\n",
    "ax2=plt.twiny()\n",
    "plt.xticks(weight = 'bold')\n",
    "ax2.tick_params(axis='both', which='both', labelsize=12)\n",
    "ax2.tick_params(axis='x', colors='w')\n",
    "'''\n",
    "\n",
    "\n",
    "fig.tight_layout()\n",
    "plt.savefig('./fig-BP/th_plot_amp.pdf',format='pdf', dpi=300)\n",
    "plt.show()\n",
    "\n"
   ]
  },
  {
   "cell_type": "code",
   "execution_count": 73,
   "id": "fb306a3c-c4da-4dfe-a139-db2621667366",
   "metadata": {},
   "outputs": [
    {
     "name": "stdout",
     "output_type": "stream",
     "text": [
      "98.34163731638176\n",
      "99.74637058671935\n",
      "95.60368525040805\n",
      "96.43995361223261\n"
     ]
    },
    {
     "data": {
      "image/png": "[encoded data removed]",
      "text/plain": [
       "<Figure size 504x360 with 2 Axes>"
      ]
     },
     "metadata": {},
     "output_type": "display_data"
    }
   ],
   "source": [
    "bins = 100\n",
    "fig, ax = plt.subplots(1,1,figsize=(7,5))\n",
    "\n",
    "var='abp_pks_amp_std'\n",
    "values, base = np.histogram(df[var].values, bins=bins)\n",
    "cumulative = np.cumsum(values)/df.shape[0]*100\n",
    "ax.plot(base[:-1], cumulative, linewidth=3, label=dic_names[var], color=plt.cm.tab20(0), ls='-')\n",
    "print(cumulative[(base<th_amp_abp_std).sum()])#98.34163731638176\n",
    "ax.scatter(th_amp_abp_std,98.3, s=50, color=plt.cm.tab20(0), zorder=3)\n",
    "\n",
    "var='abp_vlys_amp_std'\n",
    "values, base = np.histogram(df[var].values, bins=bins)\n",
    "cumulative = np.cumsum(values)/df.shape[0]*100\n",
    "ax.plot(base[:-1], cumulative, linewidth=3, label=dic_names[var], color=plt.cm.tab20(1), ls='--')\n",
    "print(cumulative[(base<th_amp_abp_std).sum()])#99.74637058671935\n",
    "ax.scatter(th_amp_abp_std,99.7, s=50, color=plt.cm.tab20(0), zorder=3)\n",
    "\n",
    "#ax.axvline(th_amp_abp_std, 0, 1, label='Threshold', ls=':', color=plt.cm.tab20(0), linewidth=2, zorder=2)\n",
    "plt.xticks(weight = 'bold')\n",
    "\n",
    "ax2=ax.twiny()\n",
    "\n",
    "var='ppg_pks_amp_std'\n",
    "values, base = np.histogram(df[var].values, bins=bins)\n",
    "cumulative = np.cumsum(values)/df.shape[0]*100\n",
    "ax2.plot(base[:-1], cumulative, linewidth=3, label=dic_names[var], color=plt.cm.tab20(2), ls='-', zorder=1)\n",
    "print(cumulative[(base<th_amp_ppg_std).sum()])#95.60368525040805\n",
    "ax2.scatter(th_amp_ppg_std,95.6, s=50, color=plt.cm.tab20(2), zorder=3)\n",
    "\n",
    "var='ppg_vlys_amp_std'\n",
    "values, base = np.histogram(df[var].values, bins=bins)\n",
    "cumulative = np.cumsum(values)/df.shape[0]*100\n",
    "ax2.plot(base[:-1], cumulative, linewidth=3, label=dic_names[var], color=plt.cm.tab20(3), ls='--', zorder=1)\n",
    "print(cumulative[(base<th_amp_ppg_std).sum()-1])#96.43995361223261\n",
    "ax2.scatter(th_amp_ppg_std,96.45, s=50, color=plt.cm.tab20(2), zorder=3)\n",
    "\n",
    "ax.axvline(th_amp_abp_std, 0, 1, ls=':', color='tab:grey', linewidth=2, zorder=0)\n",
    "#ax2.axvline(th_amp_ppg_std, 0, 1, ls=':', color='tab:grey', linewidth=2, zorder=2)\n",
    "\n",
    "ax.tick_params(axis='both', which='both', labelsize=12)\n",
    "ax2.tick_params(axis='both', which='both', labelsize=12)\n",
    "#ax.tick_params(axis='both', which='minor', labelsize=8)\n",
    "ax.tick_params(axis='x', colors=plt.cm.tab20(0))\n",
    "ax2.tick_params(axis='x', colors=plt.cm.tab20(2))\n",
    "#ax.yaxis.label.set_color(plt.cm.tab20(0))\n",
    "#ax2.xaxis.label.set_color(plt.cm.tab20(2))\n",
    "\n",
    "plt.ylim(93,100.3)\n",
    "ax.set_xlim(0,30)\n",
    "ax2.set_xlim(0,1.12)\n",
    "plt.xticks(weight = 'bold')\n",
    "ax.set_ylabel('Cumulative percentage of samples',size=fsize)\n",
    "ax.set_xlabel(\"Standard deviation of amplitudes\",size=fsize)#, color=plt.cm.tab20(0))\n",
    "#ax2.set_xlabel(\"Standard deviation of PPG's amplitudes\",size=fsize)#, color=plt.cm.tab20(2))\n",
    "ax.legend(loc=(0.65, 0.18),fontsize=fsize, frameon=False)\n",
    "ax2.legend(loc=(0.65, 0.03),fontsize=fsize, frameon=False)\n",
    "fig.tight_layout()\n",
    "plt.savefig('./fig-BP/th_plot_amp.pdf',format='pdf', dpi=300)\n",
    "plt.show()"
   ]
  },
  {
   "cell_type": "code",
   "execution_count": null,
   "id": "84d9f73b-72ee-48ba-8fda-3eeb4c38df10",
   "metadata": {},
   "outputs": [],
   "source": []
  }
 ],
 "metadata": {
  "kernelspec": {
   "display_name": "Python 3 (ipykernel)",
   "language": "python",
   "name": "python3"
  },
  "language_info": {
   "codemirror_mode": {
    "name": "ipython",
    "version": 3
   },
   "file_extension": ".py",
   "mimetype": "text/x-python",
   "name": "python",
   "nbconvert_exporter": "python",
   "pygments_lexer": "ipython3",
   "version": "3.8.11"
  }
 },
 "nbformat": 4,
 "nbformat_minor": 5
}
