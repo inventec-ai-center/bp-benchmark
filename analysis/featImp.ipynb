{
 "cells": [
  {
   "cell_type": "code",
   "execution_count": 299,
   "id": "9c6c19ab-d1dd-4a28-a839-402f295de30f",
   "metadata": {},
   "outputs": [],
   "source": [
    "import pandas as pd\n",
    "import matplotlib.pyplot as plt\n",
    "from matplotlib.lines import Line2D\n",
    "import matplotlib as mpl\n",
    "\n",
    "import seaborn as sns\n",
    "from matplotlib.patches import Patch\n",
    "sns.set_theme(style=\"darkgrid\")\n",
    "path = '../feat_importance/'"
   ]
  },
  {
   "cell_type": "code",
   "execution_count": 2,
   "id": "d8146ab7-eae6-42fe-b28d-c723464f667b",
   "metadata": {},
   "outputs": [],
   "source": [
    "all_feats = pd.DataFrame(index=pd.read_pickle(path+f'uci2_dataset/featImportance-SP.pkl').features.sort_values().values)\n",
    "dbs = ['sensors','uci2','bcg','ppgbp']\n",
    "targets = ['SP','DP']\n",
    "for db in dbs:\n",
    "    for tar in targets:\n",
    "        feats=pd.read_pickle(path+f'{db}_dataset/featImportance-{tar}.pkl')\n",
    "        feats = feats.reset_index().rename(columns={'index':'rank'})\n",
    "        feats = feats.set_index('features')\n",
    "        all_feats[f'{db}_{tar}_rank'] = feats['rank']\n",
    "        all_feats[f'{db}_{tar}_importance'] = feats['importance']\n",
    "\n"
   ]
  },
  {
   "cell_type": "markdown",
   "id": "e450e563-d993-468e-bf16-b3e49e7441b2",
   "metadata": {},
   "source": [
    "# Best ranked feat for SP and DP"
   ]
  },
  {
   "cell_type": "code",
   "execution_count": 3,
   "id": "b44fa306-7bc3-4609-8917-0bf44f2bbd3f",
   "metadata": {},
   "outputs": [
    {
     "data": {
      "text/plain": [
       "SteepDiaRise     7.00\n",
       "T_peak_e        16.25\n",
       "T_d_norm        18.00\n",
       "dtype: float64"
      ]
     },
     "execution_count": 3,
     "metadata": {},
     "output_type": "execute_result"
    }
   ],
   "source": [
    "all_feats[[db+'_SP_rank' for db in dbs]].mean(axis=1).sort_values()[:3]\n",
    "#Amplitude of in VPG of diastolic rise (z)\n",
    "#Time from systolic peak to e point (diacrotic notch).\n",
    "#Time from beginning to d"
   ]
  },
  {
   "cell_type": "code",
   "execution_count": 4,
   "id": "4ad3c59c-8c66-414f-a997-5545350edb06",
   "metadata": {},
   "outputs": [
    {
     "data": {
      "text/plain": [
       "T_peak_e          5.00\n",
       "TSystoDiaRise    14.50\n",
       "SteepDiaRise     24.25\n",
       "dtype: float64"
      ]
     },
     "execution_count": 4,
     "metadata": {},
     "output_type": "execute_result"
    }
   ],
   "source": [
    "all_feats[[db+'_DP_rank' for db in dbs]].mean(axis=1).sort_values()[:3]\n",
    "#Time from systolic peak to e point (diacrotic notch).\n",
    "#Time from systolic peak to diastolic rise (z)\n",
    "#Amplitude of in VPG of diastolic rise (z)"
   ]
  },
  {
   "cell_type": "code",
   "execution_count": 5,
   "id": "40cf1c12-67a5-4bbd-a2c1-1f70aeabf65c",
   "metadata": {},
   "outputs": [
    {
     "data": {
      "text/plain": [
       "T_peak_e         10.625\n",
       "SteepDiaRise     15.625\n",
       "T_peak_e_norm    22.500\n",
       "TSystoDiaRise    25.375\n",
       "dtype: float64"
      ]
     },
     "execution_count": 5,
     "metadata": {},
     "output_type": "execute_result"
    }
   ],
   "source": [
    "((all_feats[[db+'_SP_rank' for db in dbs]].mean(axis=1) + all_feats[[db+'_DP_rank' for db in dbs]].mean(axis=1))/2).sort_values()[:4]"
   ]
  },
  {
   "cell_type": "markdown",
   "id": "d7f94778-dd7a-4116-ab08-fedc8d6b9d43",
   "metadata": {},
   "source": [
    "# Set groups"
   ]
  },
  {
   "cell_type": "code",
   "execution_count": 6,
   "id": "634c88a6-a2be-4398-ac33-f1f5de2237cb",
   "metadata": {
    "collapsed": true,
    "jupyter": {
     "outputs_hidden": true
    },
    "tags": []
   },
   "outputs": [
    {
     "data": {
      "text/plain": [
       "array(['AI', 'AUCdia', 'AUCdia_norm', 'AUCsys', 'AUCsys_norm', 'DW25',\n",
       "       'DW25_norm', 'DW50', 'DW50_norm', 'DW75', 'DW75_norm', 'DWdivSW25',\n",
       "       'DWdivSW50', 'DWdivSW75', 'DiaRise', 'NegSteepest', 'Ratio', 'S1',\n",
       "       'S1_norm', 'S2', 'S2_norm', 'S3', 'S3_norm', 'S4', 'S4_norm',\n",
       "       'SQI_kurtosis', 'SQI_skew', 'SW25', 'SW25_norm', 'SW50',\n",
       "       'SW50_norm', 'SW75', 'SW75_norm', 'SWaddDW25', 'SWaddDW25_norm',\n",
       "       'SWaddDW50', 'SWaddDW50_norm', 'SWaddDW75', 'SWaddDW75_norm',\n",
       "       'SteepDiaRise', 'Steepest', 'TNegSteepest', 'TNegSteepest_norm',\n",
       "       'TSystoDiaRise', 'TSystoDiaRise_norm', 'T_a', 'T_a_norm', 'T_b',\n",
       "       'T_b_norm', 'T_c', 'T_c_norm', 'T_d', 'T_d_norm', 'T_e',\n",
       "       'T_e_norm', 'T_peak_a', 'T_peak_a_norm', 'T_peak_b',\n",
       "       'T_peak_b_norm', 'T_peak_c', 'T_peak_c_norm', 'T_peak_d',\n",
       "       'T_peak_d_norm', 'T_peak_e', 'T_peak_e_norm', 'Tc', 'Td',\n",
       "       'Td_norm', 'TdiaRise', 'TdiaRise_norm', 'TdiaToEnd',\n",
       "       'TdiaToEnd_norm', 'Ts', 'Ts_norm', 'Tsteepest', 'Tsteepest_norm',\n",
       "       'apg_a', 'apg_b', 'apg_c', 'apg_d', 'apg_e',\n",
       "       'apg_histogram_down_0', 'apg_histogram_down_1',\n",
       "       'apg_histogram_down_2', 'apg_histogram_down_3',\n",
       "       'apg_histogram_down_4', 'apg_histogram_down_5',\n",
       "       'apg_histogram_down_6', 'apg_histogram_down_7',\n",
       "       'apg_histogram_down_8', 'apg_histogram_down_9',\n",
       "       'apg_histogram_up_0', 'apg_histogram_up_1', 'apg_histogram_up_2',\n",
       "       'apg_histogram_up_3', 'apg_histogram_up_4', 'apg_max_0',\n",
       "       'apg_max_neighbor_mean_0', 'apg_min_0', 'bcda', 'bd', 'dsdc_0',\n",
       "       'dsdc_1', 'dsdc_10', 'dsdc_11', 'dsdc_12', 'dsdc_13', 'dsdc_14',\n",
       "       'dsdc_15', 'dsdc_16', 'dsdc_17', 'dsdc_18', 'dsdc_2', 'dsdc_3',\n",
       "       'dsdc_4', 'dsdc_5', 'dsdc_6', 'dsdc_7', 'dsdc_8', 'dsdc_9', 'hr_0',\n",
       "       'p2p_0', 'ppg3_histogram_down_0', 'ppg3_histogram_down_1',\n",
       "       'ppg3_histogram_down_2', 'ppg3_histogram_down_3',\n",
       "       'ppg3_histogram_down_4', 'ppg3_histogram_down_5',\n",
       "       'ppg3_histogram_down_6', 'ppg3_histogram_down_7',\n",
       "       'ppg3_histogram_down_8', 'ppg3_histogram_down_9',\n",
       "       'ppg3_histogram_up_0', 'ppg3_histogram_up_1',\n",
       "       'ppg3_histogram_up_2', 'ppg3_histogram_up_3',\n",
       "       'ppg3_histogram_up_4', 'ppg3_max_0', 'ppg3_max_neighbor_mean_0',\n",
       "       'ppg3_min_0', 'ppg4_histogram_down_0', 'ppg4_histogram_down_1',\n",
       "       'ppg4_histogram_down_2', 'ppg4_histogram_down_3',\n",
       "       'ppg4_histogram_down_4', 'ppg4_histogram_down_5',\n",
       "       'ppg4_histogram_down_6', 'ppg4_histogram_down_7',\n",
       "       'ppg4_histogram_down_8', 'ppg4_histogram_down_9',\n",
       "       'ppg4_histogram_up_0', 'ppg4_histogram_up_1',\n",
       "       'ppg4_histogram_up_2', 'ppg4_histogram_up_3',\n",
       "       'ppg4_histogram_up_4', 'ppg4_max_0', 'ppg4_max_neighbor_mean_0',\n",
       "       'ppg4_min_0', 'ppg_a', 'ppg_b', 'ppg_c', 'ppg_d', 'ppg_e',\n",
       "       'ppg_fft_peaks_0', 'ppg_fft_peaks_heights_0',\n",
       "       'ppg_fft_peaks_neighbor_avgs_0', 'ppg_histogram_down_0',\n",
       "       'ppg_histogram_down_1', 'ppg_histogram_down_2',\n",
       "       'ppg_histogram_down_3', 'ppg_histogram_down_4',\n",
       "       'ppg_histogram_down_5', 'ppg_histogram_down_6',\n",
       "       'ppg_histogram_down_7', 'ppg_histogram_down_8',\n",
       "       'ppg_histogram_down_9', 'ppg_histogram_up_0', 'ppg_histogram_up_1',\n",
       "       'ppg_histogram_up_2', 'ppg_histogram_up_3', 'ppg_histogram_up_4',\n",
       "       'ppg_max_0', 'ppg_max_neighbor_mean_0',\n",
       "       'ppg_mean_cycles_match_peak_59', 'ppg_min_0', 'ratio_apg_b',\n",
       "       'ratio_apg_c', 'ratio_apg_d', 'ratio_apg_e', 'ratio_ppg_b',\n",
       "       'ratio_ppg_c', 'ratio_ppg_d', 'ratio_ppg_e', 'sdoo', 'usdc_0',\n",
       "       'usdc_1', 'usdc_2', 'usdc_3', 'usdc_4', 'usdc_5',\n",
       "       'vpg_histogram_down_0', 'vpg_histogram_down_1',\n",
       "       'vpg_histogram_down_2', 'vpg_histogram_down_3',\n",
       "       'vpg_histogram_down_4', 'vpg_histogram_down_5',\n",
       "       'vpg_histogram_down_6', 'vpg_histogram_down_7',\n",
       "       'vpg_histogram_down_8', 'vpg_histogram_down_9',\n",
       "       'vpg_histogram_up_0', 'vpg_histogram_up_1', 'vpg_histogram_up_2',\n",
       "       'vpg_histogram_up_3', 'vpg_histogram_up_4', 'vpg_max_0',\n",
       "       'vpg_max_neighbor_mean_0', 'vpg_min_0'], dtype=object)"
      ]
     },
     "execution_count": 6,
     "metadata": {},
     "output_type": "execute_result"
    }
   ],
   "source": [
    "feat_names = all_feats.index.values\n",
    "feat_names"
   ]
  },
  {
   "cell_type": "code",
   "execution_count": 7,
   "id": "c331dd3b-65f2-4047-82ee-066a0b48d1af",
   "metadata": {},
   "outputs": [
    {
     "name": "stdout",
     "output_type": "stream",
     "text": [
      "set()\n"
     ]
    }
   ],
   "source": [
    "# point/times\n",
    "times =  set([f for f in feat_names if f.startswith('T')]+\n",
    " ['ppg_max_0','ppg_min_0','vpg_max_0','vpg_min_0','apg_max_0','apg_min_0','ppg3_max_0','ppg3_min_0','ppg4_max_0','ppg4_min_0'])\n",
    "amp = {'DiaRise','NegSteepest','SteepDiaRise','Steepest',\n",
    "    'apg_a','apg_b','apg_c','apg_d','apg_e','ppg_a','ppg_b','ppg_c','ppg_d','ppg_e','vpg_a','vpg_b','vpg_c','vpg_d','vpg_e',}\n",
    "areas = set(['S1', 'S1_norm', 'S2', 'S2_norm', 'S3', 'S3_norm', 'S4', 'S4_norm'] + [f for f in feat_names if f.startswith('AUC')])\n",
    "width = {'DW25','DW25_norm','DW50','DW50_norm','DW75','DW75_norm',\n",
    "         'SW25','SW25_norm','SW50','SW50_norm','SW75','SW75_norm',\n",
    "        'SWaddDW25','SWaddDW25_norm','SWaddDW50','SWaddDW50_norm','SWaddDW75','SWaddDW75_norm'}\n",
    "\n",
    "time_based = times.union(amp,areas,width)\n",
    "# frequency\n",
    "fft = {f for f in feat_names if 'fft' in f}\n",
    "frequency = fft\n",
    "\n",
    "# stats & operational\n",
    "histograms = {f for f in feat_names if 'histogram' in f}\n",
    "sdc = {f for f in feat_names if f.startswith('dsdc') or f.startswith('usdc')}\n",
    "sqi = {f for f in feat_names if f.startswith('SQI')}\n",
    "indices = set(['AI', 'Ratio','bd','hr_0','p2p_0','bcda','sdoo']+\n",
    "              [f for f in feat_names if 'neighbor' in f]+[f for f in feat_names if f.startswith('ratio')]+\n",
    "              ['DWdivSW25', 'DWdivSW50', 'DWdivSW75', 'ppg_mean_cycles_match_peak_59'])\n",
    "operational = times.union(histograms,sdc,sqi,indices)\n",
    "\n",
    "print(set(feat_names) - (histograms)-(areas)-(sdc)-indices-fft-sqi-width-times-amp)\n",
    "\n",
    "def mapping_subg(f):\n",
    "    if f in times:\n",
    "        return 'Time'\n",
    "    elif f in amp:\n",
    "        return 'Amplitude'\n",
    "    elif f in areas:\n",
    "        return 'Area'\n",
    "    elif f in width:\n",
    "        return 'Width'\n",
    "    elif f in fft:\n",
    "        return 'Frequency'\n",
    "    elif f in histograms:\n",
    "        return 'Histogram'\n",
    "    elif f in sdc:\n",
    "        return 'SDC'\n",
    "    elif f in sqi:\n",
    "        return 'SQI'\n",
    "    elif f in indices:\n",
    "        return 'Indices'\n",
    "    \n",
    "def mapping_group(f):\n",
    "    if f in time_based:\n",
    "        return 'Point/Time-based'\n",
    "    elif f in frequency:\n",
    "        return 'Frequency-based'\n",
    "    elif f in operational:\n",
    "        return 'Operational'\n",
    "    "
   ]
  },
  {
   "cell_type": "code",
   "execution_count": 8,
   "id": "2ce50410-756f-4131-8eeb-83728c6c3f07",
   "metadata": {
    "tags": []
   },
   "outputs": [],
   "source": [
    "all_feats['subgroup'] = [mapping_subg(f) for f in feat_names]\n",
    "all_feats['group'] = [mapping_group(f) for f in feat_names]"
   ]
  },
  {
   "cell_type": "code",
   "execution_count": 9,
   "id": "866d9600-5f63-4ed1-9502-ff81479af524",
   "metadata": {},
   "outputs": [
    {
     "data": {
      "text/plain": [
       "<AxesSubplot:>"
      ]
     },
     "execution_count": 9,
     "metadata": {},
     "output_type": "execute_result"
    },
    {
     "data": {
      "image/png": "[encoded data removed]",
      "text/plain": [
       "<Figure size 432x288 with 1 Axes>"
      ]
     },
     "metadata": {
      "needs_background": "light"
     },
     "output_type": "display_data"
    }
   ],
   "source": [
    "all_feats.subgroup.value_counts().plot.bar()"
   ]
  },
  {
   "cell_type": "code",
   "execution_count": 10,
   "id": "3a372ae3-a28e-4e5c-a699-d173c8c50277",
   "metadata": {},
   "outputs": [
    {
     "data": {
      "text/plain": [
       "<AxesSubplot:>"
      ]
     },
     "execution_count": 10,
     "metadata": {},
     "output_type": "execute_result"
    },
    {
     "data": {
      "image/png": "[encoded data removed]",
      "text/plain": [
       "<Figure size 432x288 with 1 Axes>"
      ]
     },
     "metadata": {
      "needs_background": "light"
     },
     "output_type": "display_data"
    }
   ],
   "source": [
    "all_feats.group.value_counts().plot.bar()"
   ]
  },
  {
   "cell_type": "markdown",
   "id": "d27224fe-9e33-4535-96ad-ebd7e2aa9e9f",
   "metadata": {},
   "source": [
    "# Importance scatter"
   ]
  },
  {
   "cell_type": "code",
   "execution_count": 11,
   "id": "d9e0b098-a92f-4de9-9c41-d0ab08317a65",
   "metadata": {},
   "outputs": [
    {
     "data": {
      "text/html": [
       "<div>\n",
       "<style scoped>\n",
       "    .dataframe tbody tr th:only-of-type {\n",
       "        vertical-align: middle;\n",
       "    }\n",
       "\n",
       "    .dataframe tbody tr th {\n",
       "        vertical-align: top;\n",
       "    }\n",
       "\n",
       "    .dataframe thead th {\n",
       "        text-align: right;\n",
       "    }\n",
       "</style>\n",
       "<table border=\"1\" class=\"dataframe\">\n",
       "  <thead>\n",
       "    <tr style=\"text-align: right;\">\n",
       "      <th></th>\n",
       "      <th>sensors_SP_rank</th>\n",
       "      <th>sensors_SP_importance</th>\n",
       "      <th>sensors_DP_rank</th>\n",
       "      <th>sensors_DP_importance</th>\n",
       "      <th>uci2_SP_rank</th>\n",
       "      <th>uci2_SP_importance</th>\n",
       "      <th>uci2_DP_rank</th>\n",
       "      <th>uci2_DP_importance</th>\n",
       "      <th>bcg_SP_rank</th>\n",
       "      <th>bcg_SP_importance</th>\n",
       "      <th>bcg_DP_rank</th>\n",
       "      <th>bcg_DP_importance</th>\n",
       "      <th>ppgbp_SP_rank</th>\n",
       "      <th>ppgbp_SP_importance</th>\n",
       "      <th>ppgbp_DP_rank</th>\n",
       "      <th>ppgbp_DP_importance</th>\n",
       "      <th>subgroup</th>\n",
       "      <th>group</th>\n",
       "    </tr>\n",
       "  </thead>\n",
       "  <tbody>\n",
       "    <tr>\n",
       "      <th>AI</th>\n",
       "      <td>105</td>\n",
       "      <td>0.004102</td>\n",
       "      <td>70</td>\n",
       "      <td>0.004854</td>\n",
       "      <td>116</td>\n",
       "      <td>0.003047</td>\n",
       "      <td>119</td>\n",
       "      <td>0.002827</td>\n",
       "      <td>123</td>\n",
       "      <td>0.001840</td>\n",
       "      <td>90</td>\n",
       "      <td>0.002449</td>\n",
       "      <td>165</td>\n",
       "      <td>0.002345</td>\n",
       "      <td>152</td>\n",
       "      <td>0.002937</td>\n",
       "      <td>Indices</td>\n",
       "      <td>Operational</td>\n",
       "    </tr>\n",
       "    <tr>\n",
       "      <th>AUCdia</th>\n",
       "      <td>124</td>\n",
       "      <td>0.003713</td>\n",
       "      <td>130</td>\n",
       "      <td>0.003627</td>\n",
       "      <td>138</td>\n",
       "      <td>0.002328</td>\n",
       "      <td>161</td>\n",
       "      <td>0.001895</td>\n",
       "      <td>142</td>\n",
       "      <td>0.001292</td>\n",
       "      <td>117</td>\n",
       "      <td>0.001879</td>\n",
       "      <td>36</td>\n",
       "      <td>0.004840</td>\n",
       "      <td>26</td>\n",
       "      <td>0.006602</td>\n",
       "      <td>Area</td>\n",
       "      <td>Point/Time-based</td>\n",
       "    </tr>\n",
       "    <tr>\n",
       "      <th>AUCdia_norm</th>\n",
       "      <td>170</td>\n",
       "      <td>0.002715</td>\n",
       "      <td>170</td>\n",
       "      <td>0.002893</td>\n",
       "      <td>81</td>\n",
       "      <td>0.004722</td>\n",
       "      <td>81</td>\n",
       "      <td>0.004413</td>\n",
       "      <td>0</td>\n",
       "      <td>0.109939</td>\n",
       "      <td>21</td>\n",
       "      <td>0.009591</td>\n",
       "      <td>2</td>\n",
       "      <td>0.055472</td>\n",
       "      <td>29</td>\n",
       "      <td>0.006209</td>\n",
       "      <td>Area</td>\n",
       "      <td>Point/Time-based</td>\n",
       "    </tr>\n",
       "    <tr>\n",
       "      <th>AUCsys</th>\n",
       "      <td>141</td>\n",
       "      <td>0.003381</td>\n",
       "      <td>145</td>\n",
       "      <td>0.003350</td>\n",
       "      <td>167</td>\n",
       "      <td>0.001626</td>\n",
       "      <td>165</td>\n",
       "      <td>0.001794</td>\n",
       "      <td>107</td>\n",
       "      <td>0.002261</td>\n",
       "      <td>118</td>\n",
       "      <td>0.001864</td>\n",
       "      <td>142</td>\n",
       "      <td>0.002754</td>\n",
       "      <td>150</td>\n",
       "      <td>0.002954</td>\n",
       "      <td>Area</td>\n",
       "      <td>Point/Time-based</td>\n",
       "    </tr>\n",
       "    <tr>\n",
       "      <th>AUCsys_norm</th>\n",
       "      <td>171</td>\n",
       "      <td>0.002699</td>\n",
       "      <td>176</td>\n",
       "      <td>0.002739</td>\n",
       "      <td>83</td>\n",
       "      <td>0.004697</td>\n",
       "      <td>90</td>\n",
       "      <td>0.004106</td>\n",
       "      <td>1</td>\n",
       "      <td>0.096638</td>\n",
       "      <td>24</td>\n",
       "      <td>0.008479</td>\n",
       "      <td>1</td>\n",
       "      <td>0.057553</td>\n",
       "      <td>32</td>\n",
       "      <td>0.005898</td>\n",
       "      <td>Area</td>\n",
       "      <td>Point/Time-based</td>\n",
       "    </tr>\n",
       "    <tr>\n",
       "      <th>...</th>\n",
       "      <td>...</td>\n",
       "      <td>...</td>\n",
       "      <td>...</td>\n",
       "      <td>...</td>\n",
       "      <td>...</td>\n",
       "      <td>...</td>\n",
       "      <td>...</td>\n",
       "      <td>...</td>\n",
       "      <td>...</td>\n",
       "      <td>...</td>\n",
       "      <td>...</td>\n",
       "      <td>...</td>\n",
       "      <td>...</td>\n",
       "      <td>...</td>\n",
       "      <td>...</td>\n",
       "      <td>...</td>\n",
       "      <td>...</td>\n",
       "      <td>...</td>\n",
       "    </tr>\n",
       "    <tr>\n",
       "      <th>vpg_histogram_up_3</th>\n",
       "      <td>70</td>\n",
       "      <td>0.004846</td>\n",
       "      <td>77</td>\n",
       "      <td>0.004750</td>\n",
       "      <td>174</td>\n",
       "      <td>0.001425</td>\n",
       "      <td>177</td>\n",
       "      <td>0.001591</td>\n",
       "      <td>157</td>\n",
       "      <td>0.001031</td>\n",
       "      <td>154</td>\n",
       "      <td>0.001106</td>\n",
       "      <td>150</td>\n",
       "      <td>0.002687</td>\n",
       "      <td>130</td>\n",
       "      <td>0.003263</td>\n",
       "      <td>Histogram</td>\n",
       "      <td>Operational</td>\n",
       "    </tr>\n",
       "    <tr>\n",
       "      <th>vpg_histogram_up_4</th>\n",
       "      <td>24</td>\n",
       "      <td>0.006704</td>\n",
       "      <td>82</td>\n",
       "      <td>0.004599</td>\n",
       "      <td>124</td>\n",
       "      <td>0.002639</td>\n",
       "      <td>148</td>\n",
       "      <td>0.002084</td>\n",
       "      <td>188</td>\n",
       "      <td>0.000659</td>\n",
       "      <td>181</td>\n",
       "      <td>0.000740</td>\n",
       "      <td>42</td>\n",
       "      <td>0.004450</td>\n",
       "      <td>57</td>\n",
       "      <td>0.004740</td>\n",
       "      <td>Histogram</td>\n",
       "      <td>Operational</td>\n",
       "    </tr>\n",
       "    <tr>\n",
       "      <th>vpg_max_0</th>\n",
       "      <td>200</td>\n",
       "      <td>0.001644</td>\n",
       "      <td>201</td>\n",
       "      <td>0.001955</td>\n",
       "      <td>77</td>\n",
       "      <td>0.004820</td>\n",
       "      <td>142</td>\n",
       "      <td>0.002291</td>\n",
       "      <td>75</td>\n",
       "      <td>0.003335</td>\n",
       "      <td>103</td>\n",
       "      <td>0.002176</td>\n",
       "      <td>201</td>\n",
       "      <td>0.001280</td>\n",
       "      <td>132</td>\n",
       "      <td>0.003260</td>\n",
       "      <td>Time</td>\n",
       "      <td>Point/Time-based</td>\n",
       "    </tr>\n",
       "    <tr>\n",
       "      <th>vpg_max_neighbor_mean_0</th>\n",
       "      <td>143</td>\n",
       "      <td>0.003344</td>\n",
       "      <td>148</td>\n",
       "      <td>0.003330</td>\n",
       "      <td>65</td>\n",
       "      <td>0.005441</td>\n",
       "      <td>94</td>\n",
       "      <td>0.003889</td>\n",
       "      <td>90</td>\n",
       "      <td>0.002844</td>\n",
       "      <td>1</td>\n",
       "      <td>0.046300</td>\n",
       "      <td>134</td>\n",
       "      <td>0.002828</td>\n",
       "      <td>116</td>\n",
       "      <td>0.003484</td>\n",
       "      <td>Indices</td>\n",
       "      <td>Operational</td>\n",
       "    </tr>\n",
       "    <tr>\n",
       "      <th>vpg_min_0</th>\n",
       "      <td>153</td>\n",
       "      <td>0.003152</td>\n",
       "      <td>142</td>\n",
       "      <td>0.003414</td>\n",
       "      <td>42</td>\n",
       "      <td>0.007103</td>\n",
       "      <td>63</td>\n",
       "      <td>0.005053</td>\n",
       "      <td>96</td>\n",
       "      <td>0.002727</td>\n",
       "      <td>86</td>\n",
       "      <td>0.002552</td>\n",
       "      <td>61</td>\n",
       "      <td>0.003890</td>\n",
       "      <td>129</td>\n",
       "      <td>0.003297</td>\n",
       "      <td>Time</td>\n",
       "      <td>Point/Time-based</td>\n",
       "    </tr>\n",
       "  </tbody>\n",
       "</table>\n",
       "<p>218 rows × 18 columns</p>\n",
       "</div>"
      ],
      "text/plain": [
       "                         sensors_SP_rank  sensors_SP_importance  \\\n",
       "AI                                   105               0.004102   \n",
       "AUCdia                               124               0.003713   \n",
       "AUCdia_norm                          170               0.002715   \n",
       "AUCsys                               141               0.003381   \n",
       "AUCsys_norm                          171               0.002699   \n",
       "...                                  ...                    ...   \n",
       "vpg_histogram_up_3                    70               0.004846   \n",
       "vpg_histogram_up_4                    24               0.006704   \n",
       "vpg_max_0                            200               0.001644   \n",
       "vpg_max_neighbor_mean_0              143               0.003344   \n",
       "vpg_min_0                            153               0.003152   \n",
       "\n",
       "                         sensors_DP_rank  sensors_DP_importance  uci2_SP_rank  \\\n",
       "AI                                    70               0.004854           116   \n",
       "AUCdia                               130               0.003627           138   \n",
       "AUCdia_norm                          170               0.002893            81   \n",
       "AUCsys                               145               0.003350           167   \n",
       "AUCsys_norm                          176               0.002739            83   \n",
       "...                                  ...                    ...           ...   \n",
       "vpg_histogram_up_3                    77               0.004750           174   \n",
       "vpg_histogram_up_4                    82               0.004599           124   \n",
       "vpg_max_0                            201               0.001955            77   \n",
       "vpg_max_neighbor_mean_0              148               0.003330            65   \n",
       "vpg_min_0                            142               0.003414            42   \n",
       "\n",
       "                         uci2_SP_importance  uci2_DP_rank  uci2_DP_importance  \\\n",
       "AI                                 0.003047           119            0.002827   \n",
       "AUCdia                             0.002328           161            0.001895   \n",
       "AUCdia_norm                        0.004722            81            0.004413   \n",
       "AUCsys                             0.001626           165            0.001794   \n",
       "AUCsys_norm                        0.004697            90            0.004106   \n",
       "...                                     ...           ...                 ...   \n",
       "vpg_histogram_up_3                 0.001425           177            0.001591   \n",
       "vpg_histogram_up_4                 0.002639           148            0.002084   \n",
       "vpg_max_0                          0.004820           142            0.002291   \n",
       "vpg_max_neighbor_mean_0            0.005441            94            0.003889   \n",
       "vpg_min_0                          0.007103            63            0.005053   \n",
       "\n",
       "                         bcg_SP_rank  bcg_SP_importance  bcg_DP_rank  \\\n",
       "AI                               123           0.001840           90   \n",
       "AUCdia                           142           0.001292          117   \n",
       "AUCdia_norm                        0           0.109939           21   \n",
       "AUCsys                           107           0.002261          118   \n",
       "AUCsys_norm                        1           0.096638           24   \n",
       "...                              ...                ...          ...   \n",
       "vpg_histogram_up_3               157           0.001031          154   \n",
       "vpg_histogram_up_4               188           0.000659          181   \n",
       "vpg_max_0                         75           0.003335          103   \n",
       "vpg_max_neighbor_mean_0           90           0.002844            1   \n",
       "vpg_min_0                         96           0.002727           86   \n",
       "\n",
       "                         bcg_DP_importance  ppgbp_SP_rank  \\\n",
       "AI                                0.002449            165   \n",
       "AUCdia                            0.001879             36   \n",
       "AUCdia_norm                       0.009591              2   \n",
       "AUCsys                            0.001864            142   \n",
       "AUCsys_norm                       0.008479              1   \n",
       "...                                    ...            ...   \n",
       "vpg_histogram_up_3                0.001106            150   \n",
       "vpg_histogram_up_4                0.000740             42   \n",
       "vpg_max_0                         0.002176            201   \n",
       "vpg_max_neighbor_mean_0           0.046300            134   \n",
       "vpg_min_0                         0.002552             61   \n",
       "\n",
       "                         ppgbp_SP_importance  ppgbp_DP_rank  \\\n",
       "AI                                  0.002345            152   \n",
       "AUCdia                              0.004840             26   \n",
       "AUCdia_norm                         0.055472             29   \n",
       "AUCsys                              0.002754            150   \n",
       "AUCsys_norm                         0.057553             32   \n",
       "...                                      ...            ...   \n",
       "vpg_histogram_up_3                  0.002687            130   \n",
       "vpg_histogram_up_4                  0.004450             57   \n",
       "vpg_max_0                           0.001280            132   \n",
       "vpg_max_neighbor_mean_0             0.002828            116   \n",
       "vpg_min_0                           0.003890            129   \n",
       "\n",
       "                         ppgbp_DP_importance   subgroup             group  \n",
       "AI                                  0.002937    Indices       Operational  \n",
       "AUCdia                              0.006602       Area  Point/Time-based  \n",
       "AUCdia_norm                         0.006209       Area  Point/Time-based  \n",
       "AUCsys                              0.002954       Area  Point/Time-based  \n",
       "AUCsys_norm                         0.005898       Area  Point/Time-based  \n",
       "...                                      ...        ...               ...  \n",
       "vpg_histogram_up_3                  0.003263  Histogram       Operational  \n",
       "vpg_histogram_up_4                  0.004740  Histogram       Operational  \n",
       "vpg_max_0                           0.003260       Time  Point/Time-based  \n",
       "vpg_max_neighbor_mean_0             0.003484    Indices       Operational  \n",
       "vpg_min_0                           0.003297       Time  Point/Time-based  \n",
       "\n",
       "[218 rows x 18 columns]"
      ]
     },
     "execution_count": 11,
     "metadata": {},
     "output_type": "execute_result"
    }
   ],
   "source": [
    "all_feats"
   ]
  },
  {
   "cell_type": "code",
   "execution_count": 32,
   "id": "6c7252ea-e34a-42e4-a3e6-66b9651c17f9",
   "metadata": {},
   "outputs": [
    {
     "data": {
      "image/png": "[encoded data removed]",
      "text/plain": [
       "<Figure size 504x288 with 1 Axes>"
      ]
     },
     "metadata": {
      "needs_background": "light"
     },
     "output_type": "display_data"
    }
   ],
   "source": [
    "groups = ['Point/Time-based','Frequency-based','Operational']\n",
    "colors = ['tab:blue','tab:orange','tab:green']\n",
    "alpha = 0.4\n",
    "plt.figure(figsize=(7,4))\n",
    "for db in dbs:\n",
    "    for tar in targets:\n",
    "        for g,c in zip(groups,colors):\n",
    "            sub_df = all_feats[all_feats.group==g]\n",
    "            plt.scatter(sub_df[f'{db}_{tar}_rank'],sub_df[f'{db}_{tar}_importance'], alpha=alpha,color=c)\n",
    "        plt.xlim(-0.5,25.5)\n",
    "      \n",
    "    \n",
    "from matplotlib.lines import Line2D\n",
    "\n",
    "legend_elements = []\n",
    "#Line2D([0], [0], marker='o', color='w', label='Scatter', markerfacecolor='g', markersize=15)\n",
    "for i, (g,c) in enumerate(zip(groups,colors)):\n",
    "    legend_elements+=[Line2D([0], [0], marker='o', color='w', markerfacecolor=c, label=g, alpha=1, markersize=8)]\n",
    "plt.legend(handles=legend_elements,fontsize=12)\n",
    "plt.xlabel('Feature Rank',fontsize=16)\n",
    "plt.ylabel('Feature Importance',fontsize=16)\n",
    "plt.show()"
   ]
  },
  {
   "cell_type": "code",
   "execution_count": 29,
   "id": "cb6440cf-607a-4829-b94e-f2294df898eb",
   "metadata": {},
   "outputs": [
    {
     "data": {
      "text/plain": [
       "(0.12156862745098039, 0.4666666666666667, 0.7058823529411765, 1.0)"
      ]
     },
     "execution_count": 29,
     "metadata": {},
     "output_type": "execute_result"
    }
   ],
   "source": [
    "mpl.cm.get_cmap('tab10')(0)"
   ]
  },
  {
   "cell_type": "code",
   "execution_count": 60,
   "id": "b0bd7847-df38-4b1b-8f4e-216ca21f3aa4",
   "metadata": {},
   "outputs": [
    {
     "data": {
      "image/png": "[encoded data removed]",
      "text/plain": [
       "<Figure size 504x288 with 1 Axes>"
      ]
     },
     "metadata": {
      "needs_background": "light"
     },
     "output_type": "display_data"
    }
   ],
   "source": [
    "groups = ['Time','Amplitude','Area','Width','Frequency','Histogram','SDC','SQI','Indices']\n",
    "cmap =mpl.cm.get_cmap('tab10')\n",
    "#colors = ['tab:blue','tab:orange','tab:green']\n",
    "alpha = 0.8\n",
    "plt.figure(figsize=(7,4))\n",
    "for db in dbs:\n",
    "    for tar in targets:\n",
    "        for i, g in enumerate(groups):\n",
    "            sub_df = all_feats[all_feats.subgroup==g]\n",
    "            plt.scatter(sub_df[f'{db}_{tar}_rank'],sub_df[f'{db}_{tar}_importance'], alpha=alpha,color=cmap(i/len(groups)))\n",
    "        plt.xlim(-0.5,30.5)\n",
    "      \n",
    "    \n",
    "from matplotlib.lines import Line2D\n",
    "\n",
    "legend_elements = []\n",
    "#Line2D([0], [0], marker='o', color='w', label='Scatter', markerfacecolor='g', markersize=15)\n",
    "for i, g in enumerate(groups):\n",
    "    legend_elements+=[Line2D([0], [0], marker='o', color='w', markerfacecolor=cmap(i/len(groups)), label=g, alpha=1, markersize=8)]\n",
    "plt.legend(handles=legend_elements,fontsize=12)\n",
    "plt.xlabel('Feature Rank',fontsize=16)\n",
    "plt.ylabel('Feature Importance',fontsize=16)\n",
    "plt.show()"
   ]
  },
  {
   "cell_type": "markdown",
   "id": "4b6afcea-030d-4921-b7c2-29eff753e565",
   "metadata": {},
   "source": [
    "# Average rank for each category"
   ]
  },
  {
   "cell_type": "code",
   "execution_count": 80,
   "id": "831382c5-c817-4bec-bdf9-330001c74389",
   "metadata": {},
   "outputs": [
    {
     "data": {
      "image/png": "[encoded data removed]",
      "text/plain": [
       "<Figure size 432x288 with 1 Axes>"
      ]
     },
     "metadata": {
      "needs_background": "light"
     },
     "output_type": "display_data"
    },
    {
     "data": {
      "image/png": "[encoded data removed]",
      "text/plain": [
       "<Figure size 432x288 with 1 Axes>"
      ]
     },
     "metadata": {
      "needs_background": "light"
     },
     "output_type": "display_data"
    },
    {
     "data": {
      "text/plain": [
       "<AxesSubplot:xlabel='group'>"
      ]
     },
     "execution_count": 80,
     "metadata": {},
     "output_type": "execute_result"
    },
    {
     "data": {
      "image/png": "[encoded data removed]",
      "text/plain": [
       "<Figure size 432x288 with 1 Axes>"
      ]
     },
     "metadata": {
      "needs_background": "light"
     },
     "output_type": "display_data"
    }
   ],
   "source": [
    "all_feats.groupby('group')[[c for c in all_feats.columns if 'SP_rank' in c]].mean().mean(axis=1).plot.bar()\n",
    "plt.show()\n",
    "all_feats.groupby('group')[[c for c in all_feats.columns if 'DP_rank' in c]].mean().mean(axis=1).plot.bar()\n",
    "plt.show()\n",
    "all_feats.groupby('group')[[c for c in all_feats.columns if '_rank' in c]].mean().mean(axis=1).plot.bar()"
   ]
  },
  {
   "cell_type": "code",
   "execution_count": 81,
   "id": "575b80a5-3bb2-4d9e-b328-f65ea8aa9e51",
   "metadata": {},
   "outputs": [
    {
     "data": {
      "image/png": "[encoded data removed]",
      "text/plain": [
       "<Figure size 432x288 with 1 Axes>"
      ]
     },
     "metadata": {
      "needs_background": "light"
     },
     "output_type": "display_data"
    },
    {
     "data": {
      "image/png": "[encoded data removed]",
      "text/plain": [
       "<Figure size 432x288 with 1 Axes>"
      ]
     },
     "metadata": {
      "needs_background": "light"
     },
     "output_type": "display_data"
    },
    {
     "data": {
      "text/plain": [
       "<AxesSubplot:xlabel='subgroup'>"
      ]
     },
     "execution_count": 81,
     "metadata": {},
     "output_type": "execute_result"
    },
    {
     "data": {
      "image/png": "[encoded data removed]",
      "text/plain": [
       "<Figure size 432x288 with 1 Axes>"
      ]
     },
     "metadata": {
      "needs_background": "light"
     },
     "output_type": "display_data"
    }
   ],
   "source": [
    "all_feats.groupby('subgroup')[[c for c in all_feats.columns if 'SP_rank' in c]].mean().mean(axis=1).plot.bar()\n",
    "plt.show()\n",
    "all_feats.groupby('subgroup')[[c for c in all_feats.columns if 'DP_rank' in c]].mean().mean(axis=1).plot.bar()\n",
    "plt.show()\n",
    "all_feats.groupby('subgroup')[[c for c in all_feats.columns if '_rank' in c]].mean().mean(axis=1).plot.bar()"
   ]
  },
  {
   "cell_type": "markdown",
   "id": "6dc3a4ea-f037-40c7-aa84-73a8e251ca18",
   "metadata": {},
   "source": [
    "# Among selected, percentage for each category"
   ]
  },
  {
   "cell_type": "code",
   "execution_count": 97,
   "id": "3ca5ff0c-018e-4467-a925-9d7fc26e7d7c",
   "metadata": {},
   "outputs": [],
   "source": [
    "from omegaconf import OmegaConf\n",
    "algs = ['lgb','svr','rf','mlp','ada']\n",
    "num_feats = all_feats.shape[0]"
   ]
  },
  {
   "cell_type": "code",
   "execution_count": 154,
   "id": "856162fb-f913-4193-a8e2-12c678df2c91",
   "metadata": {},
   "outputs": [],
   "source": [
    "df_SP = []\n",
    "df_DP = []\n",
    "\n",
    "for alg in algs:\n",
    "    for db in dbs:\n",
    "        conf = OmegaConf.load(f'../code/train/core/config/ml/{alg}/{alg}_{db}_SP.yaml')\n",
    "        conf.param_loader.rate_features\n",
    "        n_sel = int(num_feats*conf.param_loader.rate_features)\n",
    "        df_temp = all_feats.sort_values(f'{db}_SP_rank').iloc[:n_sel][[f'{db}_SP_rank',f'{db}_SP_importance','group','subgroup']]\n",
    "        df_temp = df_temp.rename(columns = {f'{db}_SP_rank':'rank',f'{db}_SP_importance':'importance'})\n",
    "        df_SP.append(df_temp)\n",
    "        \n",
    "        conf = OmegaConf.load(f'../code/train/core/config/ml/{alg}/{alg}_{db}_DP.yaml')\n",
    "        conf.param_loader.rate_features\n",
    "        n_sel = int(num_feats*conf.param_loader.rate_features)\n",
    "        df_temp = all_feats.sort_values(f'{db}_DP_rank').iloc[:n_sel][[f'{db}_DP_rank',f'{db}_DP_importance','group','subgroup']]\n",
    "        df_temp = df_temp.rename(columns = {f'{db}_DP_rank':'rank',f'{db}_DP_importance':'importance'})\n",
    "        df_DP.append(df_temp)\n",
    "        \n",
    "df_all = pd.concat(df_SP+df_DP)\n",
    "df_SP = pd.concat(df_SP)\n",
    "df_DP = pd.concat(df_DP)\n"
   ]
  },
  {
   "cell_type": "code",
   "execution_count": 157,
   "id": "721f2f53-e6f4-493d-96ce-132c757a20f4",
   "metadata": {},
   "outputs": [],
   "source": [
    "group_stats = pd.DataFrame()\n",
    "group_stats['avg_rank_SP'] = df_SP.groupby('group')['rank'].mean()\n",
    "group_stats['avg_importance_SP'] = df_SP.groupby('group')['importance'].mean()\n",
    "group_stats['avg_percentage_SP'] = df_SP.value_counts('group')/len(df_SP)*100\n",
    "\n",
    "group_stats['avg_rank_DP'] = df_DP.groupby('group')['rank'].mean()\n",
    "group_stats['avg_importance_DP'] = df_DP.groupby('group')['importance'].mean()\n",
    "group_stats['avg_percentage_DP'] = df_DP.value_counts('group')/len(df_DP)*100\n",
    "\n",
    "group_stats['avg_rank_all'] = df_all.groupby('group')['rank'].mean()\n",
    "group_stats['avg_importance_all'] = df_all.groupby('group')['importance'].mean()\n",
    "group_stats['avg_percentage_all'] = df_all.value_counts('group')/len(df_all)*100"
   ]
  },
  {
   "cell_type": "code",
   "execution_count": 158,
   "id": "aa141363-9f43-4e39-96a3-12bfee1f58fa",
   "metadata": {},
   "outputs": [
    {
     "data": {
      "text/html": [
       "<div>\n",
       "<style scoped>\n",
       "    .dataframe tbody tr th:only-of-type {\n",
       "        vertical-align: middle;\n",
       "    }\n",
       "\n",
       "    .dataframe tbody tr th {\n",
       "        vertical-align: top;\n",
       "    }\n",
       "\n",
       "    .dataframe thead th {\n",
       "        text-align: right;\n",
       "    }\n",
       "</style>\n",
       "<table border=\"1\" class=\"dataframe\">\n",
       "  <thead>\n",
       "    <tr style=\"text-align: right;\">\n",
       "      <th></th>\n",
       "      <th>avg_rank_SP</th>\n",
       "      <th>avg_importance_SP</th>\n",
       "      <th>avg_percentage_SP</th>\n",
       "      <th>avg_rank_DP</th>\n",
       "      <th>avg_importance_DP</th>\n",
       "      <th>avg_percentage_DP</th>\n",
       "      <th>avg_rank_all</th>\n",
       "      <th>avg_importance_all</th>\n",
       "      <th>avg_percentage_all</th>\n",
       "    </tr>\n",
       "    <tr>\n",
       "      <th>group</th>\n",
       "      <th></th>\n",
       "      <th></th>\n",
       "      <th></th>\n",
       "      <th></th>\n",
       "      <th></th>\n",
       "      <th></th>\n",
       "      <th></th>\n",
       "      <th></th>\n",
       "      <th></th>\n",
       "    </tr>\n",
       "  </thead>\n",
       "  <tbody>\n",
       "    <tr>\n",
       "      <th>Frequency-based</th>\n",
       "      <td>44.454545</td>\n",
       "      <td>0.006943</td>\n",
       "      <td>1.851852</td>\n",
       "      <td>22.333333</td>\n",
       "      <td>0.007845</td>\n",
       "      <td>2.218115</td>\n",
       "      <td>36.647059</td>\n",
       "      <td>0.007262</td>\n",
       "      <td>1.966455</td>\n",
       "    </tr>\n",
       "    <tr>\n",
       "      <th>Operational</th>\n",
       "      <td>52.916431</td>\n",
       "      <td>0.007694</td>\n",
       "      <td>59.427609</td>\n",
       "      <td>32.605096</td>\n",
       "      <td>0.012124</td>\n",
       "      <td>58.040665</td>\n",
       "      <td>46.663725</td>\n",
       "      <td>0.009057</td>\n",
       "      <td>58.993638</td>\n",
       "    </tr>\n",
       "    <tr>\n",
       "      <th>Point/Time-based</th>\n",
       "      <td>54.521739</td>\n",
       "      <td>0.011963</td>\n",
       "      <td>38.720539</td>\n",
       "      <td>21.883721</td>\n",
       "      <td>0.015050</td>\n",
       "      <td>39.741220</td>\n",
       "      <td>44.125926</td>\n",
       "      <td>0.012946</td>\n",
       "      <td>39.039907</td>\n",
       "    </tr>\n",
       "  </tbody>\n",
       "</table>\n",
       "</div>"
      ],
      "text/plain": [
       "                  avg_rank_SP  avg_importance_SP  avg_percentage_SP  \\\n",
       "group                                                                 \n",
       "Frequency-based     44.454545           0.006943           1.851852   \n",
       "Operational         52.916431           0.007694          59.427609   \n",
       "Point/Time-based    54.521739           0.011963          38.720539   \n",
       "\n",
       "                  avg_rank_DP  avg_importance_DP  avg_percentage_DP  \\\n",
       "group                                                                 \n",
       "Frequency-based     22.333333           0.007845           2.218115   \n",
       "Operational         32.605096           0.012124          58.040665   \n",
       "Point/Time-based    21.883721           0.015050          39.741220   \n",
       "\n",
       "                  avg_rank_all  avg_importance_all  avg_percentage_all  \n",
       "group                                                                   \n",
       "Frequency-based      36.647059            0.007262            1.966455  \n",
       "Operational          46.663725            0.009057           58.993638  \n",
       "Point/Time-based     44.125926            0.012946           39.039907  "
      ]
     },
     "execution_count": 158,
     "metadata": {},
     "output_type": "execute_result"
    }
   ],
   "source": [
    "group_stats"
   ]
  },
  {
   "cell_type": "code",
   "execution_count": 159,
   "id": "29f4d664-980e-4789-8d17-d848d611eee1",
   "metadata": {},
   "outputs": [],
   "source": [
    "sub_stats = pd.DataFrame()\n",
    "sub_stats['avg_rank_SP'] = df_SP.groupby('subgroup')['rank'].mean()\n",
    "sub_stats['avg_importance_SP'] = df_SP.groupby('subgroup')['importance'].mean()\n",
    "sub_stats['avg_percentage_SP'] = df_SP.value_counts('subgroup')/len(df_SP)*100\n",
    "\n",
    "sub_stats['avg_rank_DP'] = df_DP.groupby('subgroup')['rank'].mean()\n",
    "sub_stats['avg_importance_DP'] = df_DP.groupby('subgroup')['importance'].mean()\n",
    "sub_stats['avg_percentage_DP'] = df_DP.value_counts('subgroup')/len(df_DP)*100\n",
    "\n",
    "sub_stats['avg_rank_all'] = df_all.groupby('subgroup')['rank'].mean()\n",
    "sub_stats['avg_importance_all'] = df_all.groupby('subgroup')['importance'].mean()\n",
    "sub_stats['avg_percentage_all'] = df_all.value_counts('subgroup')/len(df_all)*100"
   ]
  },
  {
   "cell_type": "code",
   "execution_count": 160,
   "id": "9710b8e1-944d-4a96-b321-24d95d1cae2c",
   "metadata": {},
   "outputs": [
    {
     "data": {
      "text/html": [
       "<div>\n",
       "<style scoped>\n",
       "    .dataframe tbody tr th:only-of-type {\n",
       "        vertical-align: middle;\n",
       "    }\n",
       "\n",
       "    .dataframe tbody tr th {\n",
       "        vertical-align: top;\n",
       "    }\n",
       "\n",
       "    .dataframe thead th {\n",
       "        text-align: right;\n",
       "    }\n",
       "</style>\n",
       "<table border=\"1\" class=\"dataframe\">\n",
       "  <thead>\n",
       "    <tr style=\"text-align: right;\">\n",
       "      <th></th>\n",
       "      <th>avg_rank_SP</th>\n",
       "      <th>avg_importance_SP</th>\n",
       "      <th>avg_percentage_SP</th>\n",
       "      <th>avg_rank_DP</th>\n",
       "      <th>avg_importance_DP</th>\n",
       "      <th>avg_percentage_DP</th>\n",
       "      <th>avg_rank_all</th>\n",
       "      <th>avg_importance_all</th>\n",
       "      <th>avg_percentage_all</th>\n",
       "    </tr>\n",
       "    <tr>\n",
       "      <th>subgroup</th>\n",
       "      <th></th>\n",
       "      <th></th>\n",
       "      <th></th>\n",
       "      <th></th>\n",
       "      <th></th>\n",
       "      <th></th>\n",
       "      <th></th>\n",
       "      <th></th>\n",
       "      <th></th>\n",
       "    </tr>\n",
       "  </thead>\n",
       "  <tbody>\n",
       "    <tr>\n",
       "      <th>Amplitude</th>\n",
       "      <td>48.647887</td>\n",
       "      <td>0.010180</td>\n",
       "      <td>5.976431</td>\n",
       "      <td>23.736842</td>\n",
       "      <td>0.011883</td>\n",
       "      <td>7.024030</td>\n",
       "      <td>39.963303</td>\n",
       "      <td>0.010774</td>\n",
       "      <td>6.304222</td>\n",
       "    </tr>\n",
       "    <tr>\n",
       "      <th>Area</th>\n",
       "      <td>48.449275</td>\n",
       "      <td>0.028769</td>\n",
       "      <td>5.808081</td>\n",
       "      <td>30.833333</td>\n",
       "      <td>0.010516</td>\n",
       "      <td>3.327172</td>\n",
       "      <td>44.804598</td>\n",
       "      <td>0.024992</td>\n",
       "      <td>5.031810</td>\n",
       "    </tr>\n",
       "    <tr>\n",
       "      <th>Frequency</th>\n",
       "      <td>44.454545</td>\n",
       "      <td>0.006943</td>\n",
       "      <td>1.851852</td>\n",
       "      <td>22.333333</td>\n",
       "      <td>0.007845</td>\n",
       "      <td>2.218115</td>\n",
       "      <td>36.647059</td>\n",
       "      <td>0.007262</td>\n",
       "      <td>1.966455</td>\n",
       "    </tr>\n",
       "    <tr>\n",
       "      <th>Histogram</th>\n",
       "      <td>53.942065</td>\n",
       "      <td>0.007349</td>\n",
       "      <td>33.417508</td>\n",
       "      <td>32.768786</td>\n",
       "      <td>0.011403</td>\n",
       "      <td>31.977819</td>\n",
       "      <td>47.515789</td>\n",
       "      <td>0.008579</td>\n",
       "      <td>32.967033</td>\n",
       "    </tr>\n",
       "    <tr>\n",
       "      <th>Indices</th>\n",
       "      <td>49.782946</td>\n",
       "      <td>0.010842</td>\n",
       "      <td>10.858586</td>\n",
       "      <td>30.537037</td>\n",
       "      <td>0.012415</td>\n",
       "      <td>9.981516</td>\n",
       "      <td>44.103825</td>\n",
       "      <td>0.011306</td>\n",
       "      <td>10.584153</td>\n",
       "    </tr>\n",
       "    <tr>\n",
       "      <th>SDC</th>\n",
       "      <td>54.450000</td>\n",
       "      <td>0.006154</td>\n",
       "      <td>13.468013</td>\n",
       "      <td>38.882353</td>\n",
       "      <td>0.014337</td>\n",
       "      <td>12.569316</td>\n",
       "      <td>49.807018</td>\n",
       "      <td>0.008595</td>\n",
       "      <td>13.186813</td>\n",
       "    </tr>\n",
       "    <tr>\n",
       "      <th>SQI</th>\n",
       "      <td>40.500000</td>\n",
       "      <td>0.006545</td>\n",
       "      <td>1.683502</td>\n",
       "      <td>14.526316</td>\n",
       "      <td>0.009941</td>\n",
       "      <td>3.512015</td>\n",
       "      <td>27.846154</td>\n",
       "      <td>0.008200</td>\n",
       "      <td>2.255639</td>\n",
       "    </tr>\n",
       "    <tr>\n",
       "      <th>Time</th>\n",
       "      <td>49.844595</td>\n",
       "      <td>0.009188</td>\n",
       "      <td>24.915825</td>\n",
       "      <td>19.873418</td>\n",
       "      <td>0.016404</td>\n",
       "      <td>29.205176</td>\n",
       "      <td>39.414097</td>\n",
       "      <td>0.011699</td>\n",
       "      <td>26.257953</td>\n",
       "    </tr>\n",
       "    <tr>\n",
       "      <th>Width</th>\n",
       "      <td>147.041667</td>\n",
       "      <td>0.003149</td>\n",
       "      <td>2.020202</td>\n",
       "      <td>108.000000</td>\n",
       "      <td>0.003151</td>\n",
       "      <td>0.184843</td>\n",
       "      <td>145.480000</td>\n",
       "      <td>0.003149</td>\n",
       "      <td>1.445922</td>\n",
       "    </tr>\n",
       "  </tbody>\n",
       "</table>\n",
       "</div>"
      ],
      "text/plain": [
       "           avg_rank_SP  avg_importance_SP  avg_percentage_SP  avg_rank_DP  \\\n",
       "subgroup                                                                    \n",
       "Amplitude    48.647887           0.010180           5.976431    23.736842   \n",
       "Area         48.449275           0.028769           5.808081    30.833333   \n",
       "Frequency    44.454545           0.006943           1.851852    22.333333   \n",
       "Histogram    53.942065           0.007349          33.417508    32.768786   \n",
       "Indices      49.782946           0.010842          10.858586    30.537037   \n",
       "SDC          54.450000           0.006154          13.468013    38.882353   \n",
       "SQI          40.500000           0.006545           1.683502    14.526316   \n",
       "Time         49.844595           0.009188          24.915825    19.873418   \n",
       "Width       147.041667           0.003149           2.020202   108.000000   \n",
       "\n",
       "           avg_importance_DP  avg_percentage_DP  avg_rank_all  \\\n",
       "subgroup                                                        \n",
       "Amplitude           0.011883           7.024030     39.963303   \n",
       "Area                0.010516           3.327172     44.804598   \n",
       "Frequency           0.007845           2.218115     36.647059   \n",
       "Histogram           0.011403          31.977819     47.515789   \n",
       "Indices             0.012415           9.981516     44.103825   \n",
       "SDC                 0.014337          12.569316     49.807018   \n",
       "SQI                 0.009941           3.512015     27.846154   \n",
       "Time                0.016404          29.205176     39.414097   \n",
       "Width               0.003151           0.184843    145.480000   \n",
       "\n",
       "           avg_importance_all  avg_percentage_all  \n",
       "subgroup                                           \n",
       "Amplitude            0.010774            6.304222  \n",
       "Area                 0.024992            5.031810  \n",
       "Frequency            0.007262            1.966455  \n",
       "Histogram            0.008579           32.967033  \n",
       "Indices              0.011306           10.584153  \n",
       "SDC                  0.008595           13.186813  \n",
       "SQI                  0.008200            2.255639  \n",
       "Time                 0.011699           26.257953  \n",
       "Width                0.003149            1.445922  "
      ]
     },
     "execution_count": 160,
     "metadata": {},
     "output_type": "execute_result"
    }
   ],
   "source": [
    "sub_stats"
   ]
  },
  {
   "cell_type": "code",
   "execution_count": 241,
   "id": "723ea2c4-02af-4e40-891e-464ac1a23c93",
   "metadata": {},
   "outputs": [],
   "source": [
    "o = ['Time','Amplitude','Area','Width','Frequency','Histogram','SDC','SQI','Indices']"
   ]
  },
  {
   "cell_type": "code",
   "execution_count": 296,
   "id": "54e31ea4-a790-440f-b2d8-442647e51626",
   "metadata": {},
   "outputs": [],
   "source": [
    "cmap = mpl.cm.get_cmap('tab20c')\n",
    "my_pal = {'Time':cmap(0), 'Amplitude':cmap(1),'Area':cmap(2),'Width':cmap(3),\n",
    "          'Histogram':cmap(4),'SDC':cmap(5),'SQI':cmap(6),'Indices':cmap(7),\n",
    "          'Frequency':cmap(8)}"
   ]
  },
  {
   "cell_type": "code",
   "execution_count": 319,
   "id": "1fa96ccc-85d9-4839-a071-1e32924f8226",
   "metadata": {},
   "outputs": [
    {
     "data": {
      "image/png": "[encoded data removed]",
      "text/plain": [
       "<Figure size 1440x288 with 4 Axes>"
      ]
     },
     "metadata": {},
     "output_type": "display_data"
    }
   ],
   "source": [
    "fig, axs = plt.subplots(1,4, figsize=(20,4))\n",
    "sns.barplot(x ='avg_importance_SP' , y=sub_stats.index, data=sub_stats,ax=axs[0], order = o, palette=my_pal)\n",
    "sns.barplot(x ='avg_percentage_SP' , y=sub_stats.index, data=sub_stats,ax=axs[1], order = o, palette=my_pal)\n",
    "sns.barplot(x ='avg_importance_DP' , y=sub_stats.index, data=sub_stats,ax=axs[2], order = o, palette=my_pal)\n",
    "sns.barplot(x ='avg_percentage_DP' , y=sub_stats.index, data=sub_stats,ax=axs[3], order = o, palette=my_pal)\n",
    "\n",
    "for i, ax in enumerate(axs[1:]):\n",
    "    ax.set_ylabel('')\n",
    "    ax.set_yticklabels('')\n",
    "    #axs[0].tick_params(axis='y', which='major', labelsize=16)\n",
    "    ax.tick_params(axis='both', which='major', labelsize=16)\n",
    "    \n",
    "axs[0].set_ylabel('Feature Subgroup', fontsize=16)\n",
    "axs[0].tick_params(axis='both', which='major', labelsize=16)\n",
    "axs[0].set_xlabel('Avg. feature importance (SBP)', fontsize=16)\n",
    "axs[2].set_xlabel('Avg. feature importance (DBP)', fontsize=16)\n",
    "axs[1].set_xlabel('Selected percentange (SBP)', fontsize=16)\n",
    "axs[3].set_xlabel('Selected percentange (DBP)', fontsize=16)\n",
    "\n",
    "\n",
    "\n",
    "legend_elements = [Patch(facecolor=cmap(0), edgecolor=cmap(0), label='Points/Time'),\n",
    "                   Patch(facecolor=cmap(8), edgecolor=cmap(8), label='Frequency'),\n",
    "                   Patch(facecolor=cmap(5), edgecolor=cmap(5), label='Operational')]\n",
    "\n",
    "axs[0].legend(handles=legend_elements, fontsize=12,frameon=False)\n",
    "plt.savefig('fig-BP/feats_imp.pdf',format='pdf', bbox_inches='tight')"
   ]
  },
  {
   "cell_type": "code",
   "execution_count": 302,
   "id": "6fde6ab6-3a9c-4cc7-8b3d-88f4c2c4e77d",
   "metadata": {},
   "outputs": [
    {
     "data": {
      "text/plain": [
       "(0.19215686274509805, 0.5098039215686274, 0.7411764705882353, 1.0)"
      ]
     },
     "execution_count": 302,
     "metadata": {},
     "output_type": "execute_result"
    }
   ],
   "source": [
    "cmap(0)"
   ]
  },
  {
   "cell_type": "code",
   "execution_count": null,
   "id": "8526fa8f-db7c-40b0-885c-3976040bc2a8",
   "metadata": {},
   "outputs": [],
   "source": []
  }
 ],
 "metadata": {
  "kernelspec": {
   "display_name": "Python 3 (ipykernel)",
   "language": "python",
   "name": "python3"
  },
  "language_info": {
   "codemirror_mode": {
    "name": "ipython",
    "version": 3
   },
   "file_extension": ".py",
   "mimetype": "text/x-python",
   "name": "python",
   "nbconvert_exporter": "python",
   "pygments_lexer": "ipython3",
   "version": "3.8.11"
  }
 },
 "nbformat": 4,
 "nbformat_minor": 5
}
