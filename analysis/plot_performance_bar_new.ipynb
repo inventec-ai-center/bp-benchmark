{
 "cells": [
  {
   "cell_type": "code",
   "execution_count": 1,
   "id": "4ae6bdfe-9aea-47a3-ad0e-7b3d39dae82c",
   "metadata": {},
   "outputs": [],
   "source": [
    "import mlflow as mf\n",
    "from pathlib import Path\n",
    "import itertools\n",
    "import pandas as pd\n",
    "import numpy as np"
   ]
  },
  {
   "cell_type": "code",
   "execution_count": 2,
   "id": "f9d72d84-cd56-4f8f-b3af-709bed4e075e",
   "metadata": {},
   "outputs": [],
   "source": [
    "mf.set_tracking_uri(str(Path('../code/train/mlruns').absolute()))"
   ]
  },
  {
   "cell_type": "code",
   "execution_count": 3,
   "id": "2fcbf252-24bc-43d4-9fae-2458d2c5e809",
   "metadata": {},
   "outputs": [],
   "source": [
    "algs = ['lgb', 'svr','resnet1d','unet1d']\n",
    "tars = ['SP','DP']\n",
    "mets = ['me', 'std', 'mae', 'mase']\n",
    "mets2 = [i+'_'+j for i, j in itertools.product(tars, mets)]\n",
    "dbs = ['sensors', 'uci2', 'bcg', 'ppgbp']\n",
    "dbs2 = ['sensors85', 'uci2', 'bcg', 'ppgbp']\n",
    "\n",
    "db_cool = {'sensors':'Sensors', 'sensors85':'Sensors', 'uci2':'UCI', 'bcg':'BCG', 'ppgbp':'PPGBP'}\n",
    "alg_cool = {'lgb': 'LightGBM', 'svr': 'SVR', 'resnet1d': 'ResNet', 'unet1d': 'U-Net'}"
   ]
  },
  {
   "cell_type": "code",
   "execution_count": 4,
   "id": "72194890-c167-4218-8c26-b6a0a09cbfa4",
   "metadata": {
    "tags": []
   },
   "outputs": [
    {
     "name": "stdout",
     "output_type": "stream",
     "text": [
      "sensors lgb SP\n",
      "sensors lgb DP\n",
      "sensors svr SP\n",
      "sensors svr DP\n",
      "sensors resnet1d\n",
      "sensors unet1d\n",
      "uci2 lgb SP\n",
      "uci2 lgb DP\n",
      "uci2 svr SP\n",
      "uci2 svr DP\n",
      "uci2 resnet1d\n",
      "uci2 unet1d\n",
      "bcg lgb SP\n",
      "bcg lgb DP\n",
      "bcg svr SP\n",
      "bcg svr DP\n",
      "bcg resnet1d\n",
      "bcg unet1d\n",
      "ppgbp lgb SP\n",
      "ppgbp lgb DP\n",
      "ppgbp svr SP\n",
      "ppgbp svr DP\n",
      "ppgbp resnet1d\n",
      "ppgbp unet1d\n"
     ]
    }
   ],
   "source": [
    "l_df= []\n",
    "for db in dbs:\n",
    "    df_metrics = pd.DataFrame(index=algs,columns=mets2)\n",
    "    for alg in algs:\n",
    "        if not(alg in ['resnet1d','spectroresnet','mlpbp','unet1d','ppgiabp']):\n",
    "            for tar in tars:\n",
    "                print(db, alg, tar)\n",
    "                exp = mf.get_experiment_by_name(f'mix-{db}-{alg}-{tar}')\n",
    "                if not(exp is None):\n",
    "                    runs = mf.search_runs([exp.experiment_id])\n",
    "                    runs = runs[runs['tags.mlflow.parentRunId'].isnull()].reset_index(drop=True)\n",
    "                    runs = runs[runs.status=='FINISHED'].reset_index(drop=True)\n",
    "                    if runs.shape[0] > 0:\n",
    "                        cols1 = [tar+'_'+m for m in mets if m!='mase']\n",
    "                        cols2 = ['metrics.ts/'+m for m in cols1]\n",
    "                        df_metrics.loc[alg,cols1] = runs.iloc[0][cols2].values\n",
    "                        df_metrics.loc[alg,f'{tar}_mase'] = runs.iloc[0][f'metrics.ts/{tar}_mae']/runs.iloc[0][f'metrics.nv/{tar}_mae'] *100\n",
    "        else: \n",
    "            print(db, alg)\n",
    "            exp = mf.get_experiment_by_name(f'mix-{db}-{alg}')\n",
    "            if not(exp is None):\n",
    "                runs = mf.search_runs([exp.experiment_id])\n",
    "                runs = runs[runs['tags.mlflow.parentRunId'].isnull()].reset_index(drop=True)\n",
    "                runs = runs[runs.status=='FINISHED'].reset_index(drop=True)\n",
    "                if runs.shape[0] > 0:\n",
    "                    cols1 = [i+'_'+j for i, j in itertools.product(tars, mets) if j != 'mase']\n",
    "                    cols2 = ['metrics.test/'+m.replace('SP','sbp').replace('DP','dbp') for m in cols1]\n",
    "                    \n",
    "                    df_metrics.loc[alg,cols1] = runs.iloc[0][cols2].values\n",
    "                    df_metrics.loc[alg,f'SP_mase'] = runs.iloc[0][f'metrics.test/sbp_mae']/runs.iloc[0][f'metrics.nv/sbp_mae'] *100\n",
    "                    df_metrics.loc[alg,f'DP_mase'] = runs.iloc[0][f'metrics.test/dbp_mae']/runs.iloc[0][f'metrics.nv/dbp_mae'] *100\n",
    "                \n",
    "    df_metrics['dataset'] =  db_cool[db]\n",
    "    df_metrics['exp'] = 'Leak'\n",
    "    l_df.append(df_metrics)\n",
    "df_metrics_mix = pd.concat(l_df)"
   ]
  },
  {
   "cell_type": "code",
   "execution_count": 5,
   "id": "75996660-7812-477b-a920-223f59a16636",
   "metadata": {
    "tags": []
   },
   "outputs": [
    {
     "name": "stdout",
     "output_type": "stream",
     "text": [
      "sensors85 lgb SP\n",
      "sensors85 lgb DP\n",
      "sensors85 svr SP\n",
      "sensors85 svr DP\n",
      "sensors85 resnet1d\n",
      "sensors85 unet1d\n",
      "uci2 lgb SP\n",
      "uci2 lgb DP\n",
      "uci2 svr SP\n",
      "uci2 svr DP\n",
      "uci2 resnet1d\n",
      "uci2 unet1d\n",
      "bcg lgb SP\n",
      "bcg lgb DP\n",
      "bcg svr SP\n",
      "bcg svr DP\n",
      "bcg resnet1d\n",
      "bcg unet1d\n",
      "ppgbp lgb SP\n",
      "ppgbp lgb DP\n",
      "ppgbp svr SP\n",
      "ppgbp svr DP\n",
      "ppgbp resnet1d\n",
      "ppgbp unet1d\n"
     ]
    }
   ],
   "source": [
    "l_df= []\n",
    "for db in dbs2:\n",
    "    df_metrics = pd.DataFrame(index=algs,columns=mets2)\n",
    "    for alg in algs:\n",
    "        if not(alg in ['resnet1d','spectroresnet','mlpbp','unet1d','ppgiabp','vnet']):\n",
    "            for tar in tars:\n",
    "                print(db, alg, tar)\n",
    "                exp = mf.get_experiment_by_name(f'{db}-{alg}-{tar}')\n",
    "                if not(exp is None):\n",
    "                    runs = mf.search_runs([exp.experiment_id])\n",
    "                    runs = runs[runs['tags.mlflow.parentRunId'].isnull()].reset_index(drop=True)\n",
    "                    runs = runs[runs.status=='FINISHED'].reset_index(drop=True)\n",
    "                    runs = runs[runs['tags.mlflow.source.name']=='train.py'].reset_index(drop=True)\n",
    "                    if runs.shape[0] > 0:\n",
    "                        cols1 = [tar+'_'+m for m in mets if m!='mase']\n",
    "                        cols2 = ['metrics.ts/'+m for m in cols1]\n",
    "                        df_metrics.loc[alg,cols1] = runs.iloc[0][cols2].values\n",
    "                        df_metrics.loc[alg,f'{tar}_mase'] = runs.iloc[0][f'metrics.ts/{tar}_mae']/runs.iloc[0][f'metrics.nv/{tar}_mae'] *100\n",
    "        else: \n",
    "            print(db, alg)\n",
    "            exp = mf.get_experiment_by_name(f'{db}-{alg}')\n",
    "            if not(exp is None):\n",
    "                runs = mf.search_runs([exp.experiment_id])\n",
    "                runs = runs[runs['tags.mlflow.parentRunId'].isnull()].reset_index(drop=True)\n",
    "                runs = runs[runs.status=='FINISHED'].reset_index(drop=True)\n",
    "                runs = runs[runs['tags.mlflow.source.name']=='train.py'].reset_index(drop=True)\n",
    "                if runs.shape[0] > 0:\n",
    "                    cols1 = [i+'_'+j for i, j in itertools.product(tars, mets) if j != 'mase']\n",
    "                    cols2 = ['metrics.test/'+m.replace('SP','sbp').replace('DP','dbp') for m in cols1]\n",
    "                    \n",
    "                    df_metrics.loc[alg,cols1] = runs.iloc[0][cols2].values\n",
    "                    df_metrics.loc[alg,f'SP_mase'] = runs.iloc[0][f'metrics.test/sbp_mae']/runs.iloc[0][f'metrics.nv/sbp_mae'] *100\n",
    "                    df_metrics.loc[alg,f'DP_mase'] = runs.iloc[0][f'metrics.test/dbp_mae']/runs.iloc[0][f'metrics.nv/dbp_mae'] *100\n",
    "    df_metrics['dataset'] =  db_cool[db]\n",
    "    df_metrics['exp'] = 'No leak'\n",
    "    l_df.append(df_metrics)\n",
    "df_metrics_no_mix = pd.concat(l_df)"
   ]
  },
  {
   "cell_type": "code",
   "execution_count": 6,
   "id": "41552ec9-6986-481b-8d20-629e5d4e5380",
   "metadata": {},
   "outputs": [],
   "source": [
    "df_metrics_mix = df_metrics_mix.reset_index().rename(columns={'index':'alg'})\n",
    "df_metrics_no_mix = df_metrics_no_mix.reset_index().rename(columns={'index':'alg'})\n",
    "\n",
    "df_metrics_mix['alg'] = df_metrics_mix.alg.map(lambda a: alg_cool[a])\n",
    "df_metrics_no_mix['alg'] = df_metrics_no_mix.alg.map(lambda a: alg_cool[a])"
   ]
  },
  {
   "cell_type": "code",
   "execution_count": 8,
   "id": "d2261d8c-ef39-4f7e-8a02-c5853abb14ed",
   "metadata": {},
   "outputs": [],
   "source": [
    "l = []\n",
    "for i in range(df_metrics_no_mix.shape[0]):\n",
    "    l.append(df_metrics_no_mix.iloc[i].values)\n",
    "    l.append(df_metrics_mix.iloc[i].values)"
   ]
  },
  {
   "cell_type": "code",
   "execution_count": 9,
   "id": "6fc0ba6a-9260-4eba-8edf-c9aa1d7650c6",
   "metadata": {},
   "outputs": [],
   "source": [
    "df = pd.DataFrame(l, columns = ['alg', 'ME_0', 'SD_0', 'MAE_0', 'MASE_0', 'ME_1', 'SD_1', 'MAE_1', 'MASE_1', 'dataset', 'exp']).dropna()"
   ]
  },
  {
   "cell_type": "code",
   "execution_count": 10,
   "id": "4754ee74-eb8d-4dc2-947b-6294d288872c",
   "metadata": {},
   "outputs": [],
   "source": [
    "import numpy as np\n",
    "import matplotlib.pyplot as plt\n",
    "\n",
    "\n",
    "def tick_function(X):\n",
    "    V = 1/(1+X)\n",
    "    return [\"%.3f\" % z for z in V]\n",
    "\n",
    "def plot_bar(df_tmp, bp_type='SBP', mase_mae='MASE', me_ylim=(-30,30), mase_ylim=(-110,110), nb_ticks=8, savepath=''):\n",
    "    import matplotlib.ticker as ticker\n",
    "    \n",
    "    bp = 0 if bp_type=='SBP' else 1\n",
    "    fig = plt.figure(figsize=(20, 5))\n",
    "    fig.tight_layout()\n",
    "    N = 3\n",
    "    ind = np.arange(N)  # the x locations for the groups\n",
    "    width = 0.1         # the width of the bars\n",
    "    add_space = 0.2     # the additional space between metrics\n",
    "    data_space = 0.5    # the additional space between datasets\n",
    "    new_tick_locations = np.array([2,5,8,10])\n",
    "    datasets = ['Sensors', 'UCI', 'BCG', 'PPGBP']\n",
    "    legend_label = ('ME$\\pm$SD of No Leak','ME$\\pm$SD of Leak', 'MASE of No Leak', 'MASE of Leak')\n",
    "    fontsize = 14       # the fontsize of all the text in the plot\n",
    "    nb_ticks = nb_ticks # number of ticks shown in y-axis\n",
    "    colors = [plt.cm.tab20(0), plt.cm.tab20(1), plt.cm.tab20(2), plt.cm.tab20(3)]\n",
    "    ax = fig.add_subplot(111)\n",
    "\n",
    "    for i, ds in enumerate(datasets):\n",
    "        ind_tmp = ind + i*(N+data_space)\n",
    "        if ds=='PPGBP': ind_tmp = ind_tmp[:-1]\n",
    "        met_df = df_tmp[(df_tmp.dataset==ds) & (df_tmp.alg!='Naive')]\n",
    "\n",
    "        leak_mase = met_df[met_df.exp=='Leak'][f'{mase_mae}_{bp}'].values\n",
    "        leak_me = met_df[met_df.exp=='Leak'][f'ME_{bp}'].values\n",
    "        leak_std = met_df[met_df.exp=='Leak'][f'SD_{bp}'].values\n",
    "\n",
    "        nleak_mase = met_df[met_df.exp=='No leak'][f'{mase_mae}_{bp}'].values\n",
    "        nleak_me = met_df[met_df.exp=='No leak'][f'ME_{bp}'].values\n",
    "        nleak_std = met_df[met_df.exp=='No leak'][f'SD_{bp}'].values\n",
    "\n",
    "        \n",
    "        rects2 = ax.bar(ind_tmp, nleak_me, width, color=colors[0], yerr=nleak_std, ecolor=colors[0])\n",
    "        rects1 = ax.bar(ind_tmp+width, leak_me, width, color=colors[1], yerr=leak_std, ecolor=colors[1])\n",
    "        ax.tick_params(axis='y', color=colors[0], labelcolor=colors[0])\n",
    "        ax.yaxis.label.set_color(colors[0])\n",
    "        ax.set_ylabel('ME$\\pm$SD', fontsize=fontsize)\n",
    "        ax.yaxis.set_tick_params(labelsize=fontsize)\n",
    "        ax.set_ylim(me_ylim[0], me_ylim[1])\n",
    "        ax.yaxis.set_major_locator(plt.MaxNLocator(nb_ticks))\n",
    "        \n",
    "        ax2 = ax.twinx()\n",
    "        \n",
    "        rects4 = ax2.bar(ind_tmp+width+add_space, nleak_mase, width, color=colors[2])\n",
    "        rects3 = ax2.bar(ind_tmp+width+add_space+width, leak_mase, width, color=colors[3])\n",
    "        ax2.set_ylim(mase_ylim[0], mase_ylim[1])\n",
    "        ax2.tick_params(axis='y', color=colors[2], labelcolor=colors[2],)\n",
    "        ax2.yaxis.label.set_color(colors[2])\n",
    "        ax2.set_ylabel('MASE (%)', fontsize=fontsize)\n",
    "        ax2.yaxis.set_tick_params(labelsize=fontsize)\n",
    "        ax2.yaxis.set_major_locator(plt.MaxNLocator(nb_ticks))\n",
    "        \n",
    "    loc = []\n",
    "    for i in range(N+1):\n",
    "        i_tmp = i+i*(N)-(width+add_space*2)*i\n",
    "        loc+=[i_tmp+width, 1+i_tmp+width+add_space/2, 2+i_tmp+width+add_space/2]  \n",
    "    ax.set_xticks(loc[:-1]) # exclude ppgbp Unet\n",
    "    ax.set_xticklabels( (['Feat2Lab\\n(LightGBM)', 'Sig2Lab\\n(ResNet)', 'Sig2Sig\\n(U-Net)']*4)[:-1] , fontsize=fontsize)\n",
    "\n",
    "    ax.legend( (rects2[0],rects1[0], rects4[0],rects3[0]), legend_label,\n",
    "            loc='lower center', fancybox=False, shadow=False, ncol=5, fontsize=fontsize, frameon=False)\n",
    "\n",
    "\n",
    "    #%% Add the dataset axis\n",
    "    # Move twinned axis ticks and label from top to bottom\n",
    "    ax3 = ax.twiny()\n",
    "    ax3.set_xlim(ax.get_xlim())\n",
    "    \n",
    "    # Get the x location for datasets\n",
    "    new_loc = []\n",
    "    for i in range(len(loc)//3):\n",
    "        if i==len(loc)//3-1:\n",
    "            new_loc.append(np.mean(loc[-3:-1]))\n",
    "        else:\n",
    "            new_loc.append(loc[i*3+1])\n",
    "    \n",
    "    ax3.set_xticks(new_loc)\n",
    "    ax3.set_xticklabels(datasets)\n",
    "    ax3.spines[\"bottom\"].set_position((\"axes\", -0.18))\n",
    "    ax3.tick_params(axis='x', bottom=False, labelbottom=False, length=0, labelsize=fontsize)\n",
    "    \n",
    "    ax3.xaxis.set_ticks_position(\"bottom\")\n",
    "    ax3.xaxis.set_label_position(\"bottom\")\n",
    "    \n",
    "    \n",
    "    #%% Add the small ticks between the datasets \n",
    "    ax4 = ax.twiny()\n",
    "    ax4.set_xlim(ax.get_xlim())\n",
    "    # Get the x location for separating datasets\n",
    "    sep_loc = []\n",
    "    for i in range(1, len(loc)//3):\n",
    "        sep_loc.append(np.mean(loc[i*3-1: i*3+1]))\n",
    "            \n",
    "    ax4.set_xticks(sep_loc)\n",
    "    ax4.xaxis.set_ticks_position(\"bottom\")\n",
    "    ax4.tick_params(axis='x', labelbottom=False, length=14, direction=\"inout\")\n",
    "    # ax4.xaxis.set_label(invi)\n",
    "    if len(savepath)>0:\n",
    "        plt.savefig(f'./{savepath}.pdf', format='pdf', dpi=300, bbox_inches='tight')"
   ]
  },
  {
   "cell_type": "code",
   "execution_count": 11,
   "id": "a397df52-8c04-4086-8d3a-a3341d916754",
   "metadata": {},
   "outputs": [
    {
     "data": {
      "image/png": "[encoded data removed]",
      "text/plain": [
       "<Figure size 1440x360 with 7 Axes>"
      ]
     },
     "metadata": {},
     "output_type": "display_data"
    }
   ],
   "source": [
    "plot_bar(df[df['alg']!='SVR'], bp_type='SBP', me_ylim=(-35, 35), mase_ylim=(-115,115), nb_ticks=6, savepath='fig-BP/sbp_leak')"
   ]
  },
  {
   "cell_type": "code",
   "execution_count": 12,
   "id": "06763358-0e6a-4889-a4b1-dd9712f9f3bf",
   "metadata": {},
   "outputs": [
    {
     "data": {
      "image/png": "[encoded data removed]",
      "text/plain": [
       "<Figure size 1440x360 with 7 Axes>"
      ]
     },
     "metadata": {},
     "output_type": "display_data"
    }
   ],
   "source": [
    "plot_bar(df[df['alg']!='SVR'], bp_type='DBP', me_ylim=(-20, 20), mase_ylim=(-115,115), nb_ticks=6, savepath='fig-BP/dbp_leak')"
   ]
  },
  {
   "cell_type": "code",
   "execution_count": null,
   "id": "bbfef3e1-75b4-4b89-ade6-2d741d3bdf20",
   "metadata": {},
   "outputs": [],
   "source": []
  }
 ],
 "metadata": {
  "kernelspec": {
   "display_name": "Python 3 (ipykernel)",
   "language": "python",
   "name": "python3"
  },
  "language_info": {
   "codemirror_mode": {
    "name": "ipython",
    "version": 3
   },
   "file_extension": ".py",
   "mimetype": "text/x-python",
   "name": "python",
   "nbconvert_exporter": "python",
   "pygments_lexer": "ipython3",
   "version": "3.8.11"
  }
 },
 "nbformat": 4,
 "nbformat_minor": 5
}
